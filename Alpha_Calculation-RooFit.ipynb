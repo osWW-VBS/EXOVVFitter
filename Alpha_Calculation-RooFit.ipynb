{
 "cells": [
  {
   "cell_type": "code",
   "execution_count": 1,
   "metadata": {
    "collapsed": false
   },
   "outputs": [
    {
     "data": {
      "application/javascript": [
       "\n",
       "require(['notebook'],\n",
       "  function() {\n",
       "    IPython.CodeCell.config_defaults.highlight_modes['magic_text/x-c++src'] = {'reg':[/^%%cpp/]};\n",
       "    console.log(\"JupyROOT - %%cpp magic configured\");\n",
       "  }\n",
       ");\n"
      ]
     },
     "metadata": {},
     "output_type": "display_data"
    },
    {
     "name": "stdout",
     "output_type": "stream",
     "text": [
      "Welcome to JupyROOT 6.08/05\n"
     ]
    }
   ],
   "source": [
    "import ROOT as r\n",
    "\n",
    "r.gSystem.Load(\"PDFs/PdfDiagonalizer_cc.so\")\n",
    "r.gSystem.Load(\"PDFs/Util_cxx.so\")\n",
    "r.gSystem.Load(\"PDFs/HWWLVJRooPdfs_cxx.so\")\n",
    "\n",
    "# To surpress unwanted messages\n",
    "msgservice = r.RooMsgService.instance()\n",
    "msgservice.setGlobalKillBelow(r.RooFit.FATAL)\n",
    "\n",
    "%matplotlib inline"
   ]
  },
  {
   "cell_type": "code",
   "execution_count": 2,
   "metadata": {
    "collapsed": false,
    "scrolled": true
   },
   "outputs": [],
   "source": [
    "fin = r.TFile.Open(\"root://cmseos.fnal.gov//store/user/rasharma/SecondStep/WWTree_2018_01_25_14h36/Hadds_for_BkgEstimation/WWTree_WJets.root\")\n",
    "\n",
    "treeIn = fin.Get(\"otree\")"
   ]
  },
  {
   "cell_type": "code",
   "execution_count": 3,
   "metadata": {
    "collapsed": false
   },
   "outputs": [
    {
     "data": {
      "text/plain": [
       "10803L"
      ]
     },
     "execution_count": 3,
     "metadata": {},
     "output_type": "execute_result"
    },
    {
     "name": "stderr",
     "output_type": "stream",
     "text": [
      "Info in <TCanvas::MakeDefCanvas>:  created default TCanvas with name c1\n"
     ]
    }
   ],
   "source": [
    "h1 = r.TH1F(\"h1\",\"\",67,170,3500)\n",
    "#h1.Sumw2()\n",
    "#h1.SetMinimum(0.)\n",
    "\n",
    "cutString =  \"btag0Wgt*genWeight*trig_eff_Weight*id_eff_Weight*pu_Weight*((l_pt2<0) && ((l_pt1>30.) && (abs(l_eta1)<2.5)) && ((ungroomed_PuppiAK8_jet_pt>200)&&(abs(ungroomed_PuppiAK8_jet_eta)<2.4)) && ((vbf_maxpt_j1_pt>30) && (vbf_maxpt_j2_pt>30)) && (vbf_maxpt_jj_m>500) && (nBTagJet_loose==0) && (pfMET_Corr>50) && ((PuppiAK8_jet_tau2tau1<0.55)) && ((PuppiAK8_jet_mass_so>40 && PuppiAK8_jet_mass_so<65) || (PuppiAK8_jet_mass_so>105 && PuppiAK8_jet_mass_so<150)) && (abs(vbf_maxpt_j2_eta-vbf_maxpt_j1_eta)>4.0) && (vbf_maxpt_jj_m>800) && (BosonCentrality_type0>1.0) && (abs(ZeppenfeldWL_type0/vbf_maxpt_jj_Deta)<0.3) && (abs(ZeppenfeldWH/vbf_maxpt_jj_Deta)<0.3) && (mass_lvj_type0>170))\"\n",
    "\n",
    "treeIn.Draw(\"mass_lvj_type0>>h1\",cutString)"
   ]
  },
  {
   "cell_type": "markdown",
   "metadata": {},
   "source": [
    "**Get histogram to RooVariable and delete the histogram**"
   ]
  },
  {
   "cell_type": "code",
   "execution_count": 4,
   "metadata": {
    "collapsed": false
   },
   "outputs": [
    {
     "name": "stdout",
     "output_type": "stream",
     "text": [
      "Total number of events =  10788.2740961 \t Integration =  536193.324476\n"
     ]
    }
   ],
   "source": [
    "rrv_x = r.RooRealVar(\"rrv_x\",\"WW invariant mass\",170,3500,\"GeV\");\n",
    "dh =  r.RooDataHist(\"dh\",\"plotOn test data with x\",r.RooArgList(rrv_x),h1)\n",
    "\n",
    "print \"Total number of events = \",h1.Integral(),\"\\t Integration = \",h1.Integral(\"width\")\n",
    "\n",
    "h1.Delete()"
   ]
  },
  {
   "cell_type": "markdown",
   "metadata": {},
   "source": [
    "# Draw histogram and model extracted from background estimation code\n",
    "\n",
    "## Fit result from background estimation code\n",
    "\n",
    "```\n",
    "=====\t<ROOT.RooFitResult object (\"rfresult_WJets0_xww_sb_lo_em_mlvj\") at 0x75c41a0> \t======\n",
    "\n",
    "  RooFitResult: minimized FCN value: -6865.11, estimated distance to minimum: 0.088129\n",
    "                covariance matrix quality: Unknown, matrix was externally provided\n",
    "                Status : MINIMIZE=0 HESSE=0 HESSE=0 \n",
    "\n",
    "    Floating Parameter    FinalValue +/-  Error   \n",
    "  --------------------  --------------------------\n",
    "                  frac    1.7370e-01 +/-  2.34e-02\n",
    "  rrv_c_ExpN_WJets0_xww_sb_lo_em   -5.5655e-03 +/-  1.40e-04\n",
    "  rrv_c_Landau_WJets0_xww_sb_lo_em    4.8421e+02 +/-  1.73e+01\n",
    "  rrv_n_ExpN_WJets0_xww_sb_lo_em   -9.7704e+02 +/-  3.17e+01\n",
    "  rrv_n_Landau_WJets0_xww_sb_lo_em    1.0000e+02 +/-  1.28e-06\n",
    "  rrv_number_WJets0_xww_sb_lo_em_mlvj    7.0623e+03 +/-  8.61e+01\n",
    "\n",
    "```\n",
    "\n",
    "* Fix the parameters of landau and ExpN to the above parameters.\n",
    "* Fix all parameters and draw (its not working as expected)\n",
    "* Also, I don't know how I can provide the normalization"
   ]
  },
  {
   "cell_type": "code",
   "execution_count": 11,
   "metadata": {
    "collapsed": false
   },
   "outputs": [
    {
     "data": {
      "text/plain": [
       "<ROOT.RooPlot object (\"frame_rrv_x_8c9fd70\") at 0x8c9fd70>"
      ]
     },
     "execution_count": 11,
     "metadata": {},
     "output_type": "execute_result"
    }
   ],
   "source": [
    "rrv_c_Landau = r.RooRealVar(\"rrv_c_Landau\",\"rrv_c_Landau\",1.1371e+03,\"GeV\");\n",
    "rrv_n_Landau = r.RooRealVar(\"rrv_n_Landau\",\"rrv_n_Landau\",1.2339e+02,\"GeV\");\n",
    "model_landau = r.RooLandau(\"model_landau\",\"model_landau\",rrv_x,rrv_c_Landau,rrv_n_Landau) \n",
    "\n",
    "rrv_a_ExpN = r.RooRealVar(\"rrv_a_ExpN\",\"rrv_a_ExpN\",-6.3661e-03,\"GeV\");\n",
    "rrv_b_ExpN = r.RooRealVar(\"rrv_b_ExpN\",\"rrv_b_ExpN\",-1.3944e+03,\"GeV\");\n",
    "model_ExpN = r.RooExpNPdf(\"model_ExpN\",\"model_ExpN\",rrv_x,rrv_a_ExpN,rrv_b_ExpN);\n",
    "\n",
    "frac = r.RooRealVar(\"frac\",\"frac\",0.1737);\n",
    "#frac = r.RooRealVar(\"frac\",\"frac\",0.8,0.,1.);\n",
    "\n",
    "model_pdf = r.RooAddPdf(\"model_pdf\",\"model_pdf\",r.RooArgList(model_landau,model_ExpN),r.RooArgList(frac))\n",
    "\n",
    "#model_pdf.fitTo(dh,r.RooFit.Save(1),r.RooFit.Extended(1))\n",
    "#model_pdf.fitTo(dh,r.RooFit.Save(1),r.RooFit.Extended(1))\n",
    "\n",
    "\n",
    "frame = rrv_x.frame()\n",
    "dh.plotOn(frame)\n",
    "dh.statOn(frame)\n",
    "\n",
    "model_pdf.plotOn(frame, r.RooFit.LineColor(2))"
   ]
  },
  {
   "cell_type": "code",
   "execution_count": 12,
   "metadata": {
    "collapsed": false
   },
   "outputs": [
    {
     "name": "stderr",
     "output_type": "stream",
     "text": [
      "Warning in <TCanvas::Constructor>: Deleting canvas with same name: c1\n"
     ]
    },
    {
     "data": {
      "image/png": "[encoded data removed]",
      "text/plain": [
       "<IPython.core.display.Image object>"
      ]
     },
     "metadata": {},
     "output_type": "display_data"
    }
   ],
   "source": [
    "c1 = r.TCanvas(\"c1\", \"canvas\", 800, 500)\n",
    "c1.SetLogy(1)\n",
    "frame.SetMaximum(1e5)\n",
    "frame.SetMinimum(1e-3)\n",
    "frame.Draw()\n",
    "c1.Draw()"
   ]
  },
  {
   "cell_type": "markdown",
   "metadata": {},
   "source": [
    "# Try to fix all parameters except fraction of the two function and then fit instead of Draw()\n",
    "\n",
    "* This is working close to expected."
   ]
  },
  {
   "cell_type": "code",
   "execution_count": 13,
   "metadata": {
    "collapsed": false
   },
   "outputs": [
    {
     "data": {
      "text/plain": [
       "<ROOT.RooPlot object (\"frame_rrv_x_91da700\") at 0x91da700>"
      ]
     },
     "execution_count": 13,
     "metadata": {},
     "output_type": "execute_result"
    },
    {
     "name": "stdout",
     "output_type": "stream",
     "text": [
      " **********\n",
      " **   10 **SET PRINT           1\n",
      " **********\n",
      " **********\n",
      " **   11 **SET NOGRAD\n",
      " **********\n",
      " PARAMETER DEFINITIONS:\n",
      "    NO.   NAME         VALUE      STEP SIZE      LIMITS\n",
      "     1 frac         1.70000e-01  8.50000e-02    0.00000e+00  1.00000e+00\n",
      " **********\n",
      " **   12 **SET ERR         0.5\n",
      " **********\n",
      " **********\n",
      " **   13 **SET PRINT           1\n",
      " **********\n",
      " **********\n",
      " **   14 **SET STR           1\n",
      " **********\n",
      " NOW USING STRATEGY  1: TRY TO BALANCE SPEED AGAINST RELIABILITY\n",
      " **********\n",
      " **   15 **MIGRAD         500           1\n",
      " **********\n",
      " FIRST CALL TO USER FUNCTION AT NEW START POINT, WITH IFLAG=4.\n",
      " START MIGRAD MINIMIZATION.  STRATEGY  1.  CONVERGENCE WHEN EDM .LT. 1.00e-03\n",
      " FCN=76138.5 FROM MIGRAD    STATUS=INITIATE        4 CALLS           5 TOTAL\n",
      "                     EDM= unknown      STRATEGY= 1      NO ERROR MATRIX       \n",
      "  EXT PARAMETER               CURRENT GUESS       STEP         FIRST   \n",
      "  NO.   NAME      VALUE            ERROR          SIZE      DERIVATIVE \n",
      "   1  frac         1.70000e-01   8.50000e-02   2.33509e-01   1.45936e+03\n",
      "                               ERR DEF= 0.5\n",
      " MIGRAD MINIMIZATION HAS CONVERGED.\n",
      " MIGRAD WILL VERIFY CONVERGENCE AND ERROR MATRIX.\n",
      " COVARIANCE MATRIX CALCULATED SUCCESSFULLY\n",
      " FCN=75972.4 FROM MIGRAD    STATUS=CONVERGED      18 CALLS          19 TOTAL\n",
      "                     EDM=6.42157e-07    STRATEGY= 1      ERROR MATRIX ACCURATE \n",
      "  EXT PARAMETER                                   STEP         FIRST   \n",
      "  NO.   NAME      VALUE            ERROR          SIZE      DERIVATIVE \n",
      "   1  frac         9.27197e-02   3.74764e-03   2.45263e-03   6.20165e-02\n",
      "                               ERR DEF= 0.5\n",
      " EXTERNAL ERROR MATRIX.    NDIM=  25    NPAR=  1    ERR DEF=0.5\n",
      "  1.405e-05 \n",
      " **********\n",
      " **   16 **SET ERR         0.5\n",
      " **********\n",
      " **********\n",
      " **   17 **SET PRINT           1\n",
      " **********\n",
      " **********\n",
      " **   18 **HESSE         500\n",
      " **********\n",
      " COVARIANCE MATRIX CALCULATED SUCCESSFULLY\n",
      " FCN=75972.4 FROM HESSE     STATUS=OK              5 CALLS          24 TOTAL\n",
      "                     EDM=6.42046e-07    STRATEGY= 1      ERROR MATRIX ACCURATE \n",
      "  EXT PARAMETER                                INTERNAL      INTERNAL  \n",
      "  NO.   NAME      VALUE            ERROR       STEP SIZE       VALUE   \n",
      "   1  frac         9.27197e-02   3.74764e-03   9.81051e-05  -9.51971e-01\n",
      "                               ERR DEF= 0.5\n",
      " EXTERNAL ERROR MATRIX.    NDIM=  25    NPAR=  1    ERR DEF=0.5\n",
      "  1.405e-05 \n"
     ]
    }
   ],
   "source": [
    "rrv_c_Landau = r.RooRealVar(\"rrv_c_Landau\",\"rrv_c_Landau\",1.1371e+03,\"GeV\");\n",
    "rrv_n_Landau = r.RooRealVar(\"rrv_n_Landau\",\"rrv_n_Landau\",1.2339e+02,\"GeV\");\n",
    "model_landau = r.RooLandau(\"model_landau\",\"model_landau\",rrv_x,rrv_c_Landau,rrv_n_Landau) \n",
    "\n",
    "rrv_a_ExpN = r.RooRealVar(\"rrv_a_ExpN\",\"rrv_a_ExpN\",-6.3661e-03,\"GeV\");\n",
    "rrv_b_ExpN = r.RooRealVar(\"rrv_b_ExpN\",\"rrv_b_ExpN\",-1.3944e+03,\"GeV\");\n",
    "model_ExpN = r.RooExpNPdf(\"model_ExpN\",\"model_ExpN\",rrv_x,rrv_a_ExpN,rrv_b_ExpN);\n",
    "\n",
    "frac = r.RooRealVar(\"frac\",\"frac\",0.17,0.,1.);\n",
    "\n",
    "model_pdf = r.RooAddPdf(\"model_pdf\",\"model_pdf\",r.RooArgList(model_landau,model_ExpN),r.RooArgList(frac))\n",
    "\n",
    "model_pdf.fitTo(dh,r.RooFit.Save(1),r.RooFit.Extended(1))\n",
    "\n",
    "\n",
    "frame = rrv_x.frame()\n",
    "dh.plotOn(frame)\n",
    "dh.statOn(frame)\n",
    "\n",
    "model_pdf.plotOn(frame, r.RooFit.LineColor(2))"
   ]
  },
  {
   "cell_type": "code",
   "execution_count": 14,
   "metadata": {
    "collapsed": false
   },
   "outputs": [
    {
     "name": "stderr",
     "output_type": "stream",
     "text": [
      "Warning in <TCanvas::Constructor>: Deleting canvas with same name: c1\n"
     ]
    },
    {
     "data": {
      "image/png": "[encoded data removed]",
      "text/plain": [
       "<IPython.core.display.Image object>"
      ]
     },
     "metadata": {},
     "output_type": "display_data"
    }
   ],
   "source": [
    "c1 = r.TCanvas(\"c1\", \"canvas\", 800, 500)\n",
    "c1.SetLogy(1)\n",
    "frame.SetMaximum(1e5)\n",
    "frame.SetMinimum(1e-3)\n",
    "frame.Draw()\n",
    "c1.Draw()"
   ]
  },
  {
   "cell_type": "code",
   "execution_count": 15,
   "metadata": {
    "collapsed": false
   },
   "outputs": [
    {
     "name": "stdout",
     "output_type": "stream",
     "text": [
      "1.00000088384\n"
     ]
    }
   ],
   "source": [
    "#fullInt = model_pdf.createIntegral(r.RooArgSet(rrv_x))\n",
    "fullInt = model_pdf.createIntegral(r.RooArgSet(rrv_x),r.RooArgSet(rrv_x))\n",
    "#fullInt = model_pdf.createIntegral(r.RooArgSet(rrv_x),r.RooArgSet(rrv_x),170,3500)\n",
    "\n",
    "print fullInt.getVal()\n",
    "#*1.0052e+04\n",
    "#print fullInt1.getVal()*1.0052e+04"
   ]
  },
  {
   "cell_type": "markdown",
   "metadata": {},
   "source": [
    "# Create Histogram"
   ]
  },
  {
   "cell_type": "code",
   "execution_count": 16,
   "metadata": {
    "collapsed": false
   },
   "outputs": [
    {
     "name": "stderr",
     "output_type": "stream",
     "text": [
      "Warning in <TNetXNGFile::Append>: Replacing existing TH1: model_pdf__rrv_x (Potential memory leak).\n"
     ]
    },
    {
     "data": {
      "image/png": "[encoded data removed]",
      "text/plain": [
       "<IPython.core.display.Image object>"
      ]
     },
     "metadata": {},
     "output_type": "display_data"
    }
   ],
   "source": [
    "#datahisto = model_pdf.binnedClone(model_pdf.GetName(),\"model_pdf\")\n",
    "#if hist:\n",
    "#    hist.Delete()\n",
    "\n",
    "hist = r.TH1F()\n",
    "#hist.Sumw2()\n",
    "hist = model_pdf.createHistogram(\"rrv_x\",66)\n",
    "#hist.Sumw2()\n",
    "#hist.Scale(1.0052e+04)\n",
    "#c1.Clear()\n",
    "hist.Draw()\n",
    "c1.Draw()"
   ]
  },
  {
   "cell_type": "code",
   "execution_count": 17,
   "metadata": {
    "collapsed": false
   },
   "outputs": [
    {
     "name": "stderr",
     "output_type": "stream",
     "text": [
      "Warning in <TNetXNGFile::Append>: Replacing existing TH1: model_pdf__rrv_x (Potential memory leak).\n"
     ]
    },
    {
     "data": {
      "image/png": "[encoded data removed]",
      "text/plain": [
       "<IPython.core.display.Image object>"
      ]
     },
     "metadata": {},
     "output_type": "display_data"
    }
   ],
   "source": [
    "hist = r.TH1F()\n",
    "hist.Sumw2()\n",
    "hist = model_pdf.createHistogram(\"rrv_x\",66)\n",
    "#hist.Sumw2()\n",
    "hist.Scale(1.0052e+04)\n",
    "#c1.Clear()\n",
    "hist.Draw()\n",
    "c1.Draw()"
   ]
  }
 ],
 "metadata": {
  "kernelspec": {
   "display_name": "Python 2",
   "language": "python",
   "name": "python2"
  },
  "language_info": {
   "codemirror_mode": {
    "name": "ipython",
    "version": 2
   },
   "file_extension": ".py",
   "mimetype": "text/x-python",
   "name": "python",
   "nbconvert_exporter": "python",
   "pygments_lexer": "ipython2",
   "version": "2.7.11"
  }
 },
 "nbformat": 4,
 "nbformat_minor": 2
}
