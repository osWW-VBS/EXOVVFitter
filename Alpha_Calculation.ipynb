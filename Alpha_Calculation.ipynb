{
 "cells": [
  {
   "cell_type": "code",
   "execution_count": 1,
   "metadata": {
    "collapsed": false
   },
   "outputs": [
    {
     "data": {
      "application/javascript": [
       "\n",
       "require(['notebook'],\n",
       "  function() {\n",
       "    IPython.CodeCell.config_defaults.highlight_modes['magic_text/x-c++src'] = {'reg':[/^%%cpp/]};\n",
       "    console.log(\"JupyROOT - %%cpp magic configured\");\n",
       "  }\n",
       ");\n"
      ]
     },
     "metadata": {},
     "output_type": "display_data"
    },
    {
     "name": "stdout",
     "output_type": "stream",
     "text": [
      "Welcome to JupyROOT 6.08/05\n"
     ]
    }
   ],
   "source": [
    "import ROOT as r\n",
    "\n",
    "r.gSystem.Load(\"PDFs/PdfDiagonalizer_cc.so\")\n",
    "r.gSystem.Load(\"PDFs/Util_cxx.so\")\n",
    "r.gSystem.Load(\"PDFs/HWWLVJRooPdfs_cxx.so\")\n",
    "\n",
    "# To surpress unwanted messages\n",
    "msgservice = r.RooMsgService.instance()\n",
    "msgservice.setGlobalKillBelow(r.RooFit.FATAL)\n",
    "\n",
    "%matplotlib inline"
   ]
  },
  {
   "cell_type": "code",
   "execution_count": 2,
   "metadata": {
    "collapsed": false,
    "scrolled": true
   },
   "outputs": [],
   "source": [
    "fin = r.TFile.Open(\"root://cmseos.fnal.gov//store/user/rasharma/SecondStep/WWTree_2018_01_25_14h36/Hadds_for_BkgEstimation/WWTree_WJets.root\")\n",
    "\n",
    "treeIn = fin.Get(\"otree\")"
   ]
  },
  {
   "cell_type": "code",
   "execution_count": 3,
   "metadata": {
    "collapsed": false
   },
   "outputs": [
    {
     "data": {
      "text/plain": [
       "10803L"
      ]
     },
     "execution_count": 3,
     "metadata": {},
     "output_type": "execute_result"
    },
    {
     "name": "stderr",
     "output_type": "stream",
     "text": [
      "Info in <TCanvas::MakeDefCanvas>:  created default TCanvas with name c1\n"
     ]
    }
   ],
   "source": [
    "h1 = r.TH1F(\"h1\",\"\",67,170,3500)\n",
    "#h1.Sumw2()\n",
    "#h1.SetMinimum(0.)\n",
    "\n",
    "cutString =  \"btag0Wgt*genWeight*trig_eff_Weight*id_eff_Weight*pu_Weight*((l_pt2<0) && ((l_pt1>30.) && (abs(l_eta1)<2.5)) && ((ungroomed_PuppiAK8_jet_pt>200)&&(abs(ungroomed_PuppiAK8_jet_eta)<2.4)) && ((vbf_maxpt_j1_pt>30) && (vbf_maxpt_j2_pt>30)) && (vbf_maxpt_jj_m>500) && (nBTagJet_loose==0) && (pfMET_Corr>50) && ((PuppiAK8_jet_tau2tau1<0.55)) && ((PuppiAK8_jet_mass_so>40 && PuppiAK8_jet_mass_so<65) || (PuppiAK8_jet_mass_so>105 && PuppiAK8_jet_mass_so<150)) && (abs(vbf_maxpt_j2_eta-vbf_maxpt_j1_eta)>4.0) && (vbf_maxpt_jj_m>800) && (BosonCentrality_type0>1.0) && (abs(ZeppenfeldWL_type0/vbf_maxpt_jj_Deta)<0.3) && (abs(ZeppenfeldWH/vbf_maxpt_jj_Deta)<0.3) && (mass_lvj_type0>170))\"\n",
    "\n",
    "treeIn.Draw(\"mass_lvj_type0>>h1\",cutString)"
   ]
  },
  {
   "cell_type": "code",
   "execution_count": 4,
   "metadata": {
    "collapsed": false
   },
   "outputs": [
    {
     "name": "stderr",
     "output_type": "stream",
     "text": [
      "Warning in <TCanvas::Constructor>: Deleting canvas with same name: c1\n"
     ]
    },
    {
     "data": {
      "image/png": "[encoded data removed]",
      "text/plain": [
       "<IPython.core.display.Image object>"
      ]
     },
     "metadata": {},
     "output_type": "display_data"
    }
   ],
   "source": [
    "c1 = r.TCanvas(\"c1\", \"canvas\", 800, 500)\n",
    "c1.SetLogy()\n",
    "\n",
    "h1.Draw()\n",
    "c1.Draw()\n"
   ]
  },
  {
   "cell_type": "markdown",
   "metadata": {},
   "source": [
    "## Define a Landau + ExpN function"
   ]
  },
  {
   "cell_type": "code",
   "execution_count": 51,
   "metadata": {
    "collapsed": false
   },
   "outputs": [
    {
     "data": {
      "text/plain": [
       "<ROOT.TFitResultPtr object at 0x849f0f0>"
      ]
     },
     "execution_count": 51,
     "metadata": {},
     "output_type": "execute_result"
    },
    {
     "name": "stdout",
     "output_type": "stream",
     "text": [
      " FCN=347.771 FROM HESSE     STATUS=FAILED         11 CALLS        1035 TOTAL\n",
      "                     EDM=6.93759e-08    STRATEGY= 1  ERROR MATRIX UNCERTAINTY 100.0 per cent\n",
      "  EXT PARAMETER                APPROXIMATE        STEP         FIRST   \n",
      "  NO.   NAME      VALUE            ERROR          SIZE      DERIVATIVE \n",
      "   1  p0          -5.28241e+05   8.73415e+00  -0.00000e+00   0.00000e+00\n",
      "   2  p1           7.00000e+02   1.41421e+00  -0.00000e+00   0.00000e+00\n",
      "   3  p2          -8.60944e+05   1.41421e+00   3.47636e+02   0.00000e+00\n",
      "   4  p3           1.31007e+05   1.31505e+03  -5.25973e+01  -2.60487e-07\n",
      "   5  p4          -5.22515e-03   1.42614e-05   2.25198e-07  -2.98608e+01\n",
      "   6  p5          -1.18472e+03   4.84224e+00   1.13222e-01  -5.89180e-05\n"
     ]
    }
   ],
   "source": [
    "#fLandau = r.TF1(\"fLandau\",\"TMath::Landau(x,484.21,100.)\",170,3500)\n",
    "#fexpN = r.TF1(\"fexpN\",\"TMath::Exp(-0.0055655*x-977.04/x)\",170,3500)\n",
    "\n",
    "fLandau = r.TF1(\"fLandau\",\"[0]*TMath::Landau(x,[1],[2])\",170,3500)\n",
    "fLandau.SetParameters(-2.05866e+01,700.,-1.)\n",
    "fexpN = r.TF1(\"fexpN\",\"[0]*TMath::Exp([1]*x+[2]/x)\",170,3500)\n",
    "fexpN.SetParameters(1.31006e+04,-5.22514e-03,-1.18472e+03)\n",
    "\n",
    "\n",
    "\n",
    "#fLandauExpN = r.TF1(\"fLandauExpN\",\"7062.3*((1-0.1737)*fLandau+(0.1737)*fexpN)\",170,3500)\n",
    "fLandauExpN = r.TF1(\"fLandauExpN\",\"fLandau+fexpN\",170,3500)\n",
    "\n",
    "\n",
    "h1.Fit(\"fLandauExpN\",\"S\")\n"
   ]
  },
  {
   "cell_type": "code",
   "execution_count": 52,
   "metadata": {
    "collapsed": false
   },
   "outputs": [
    {
     "data": {
      "image/png": "[encoded data removed]",
      "text/plain": [
       "<IPython.core.display.Image object>"
      ]
     },
     "metadata": {},
     "output_type": "display_data"
    }
   ],
   "source": [
    "h1.Draw()\n",
    "fLandauExpN.Draw(\"same\")\n",
    "c1.Draw()"
   ]
  },
  {
   "cell_type": "code",
   "execution_count": null,
   "metadata": {
    "collapsed": true
   },
   "outputs": [],
   "source": []
  },
  {
   "cell_type": "code",
   "execution_count": null,
   "metadata": {
    "collapsed": true
   },
   "outputs": [],
   "source": []
  },
  {
   "cell_type": "markdown",
   "metadata": {
    "collapsed": true
   },
   "source": [
    "# END of notebook"
   ]
  },
  {
   "cell_type": "code",
   "execution_count": null,
   "metadata": {
    "collapsed": true
   },
   "outputs": [],
   "source": []
  },
  {
   "cell_type": "markdown",
   "metadata": {},
   "source": [
    "**Get histogram to RooVariable and delete the histogram**"
   ]
  },
  {
   "cell_type": "raw",
   "metadata": {
    "collapsed": false
   },
   "source": [
    "rrv_x = r.RooRealVar(\"rrv_x\",\"WW invariant mass\",170,3500,\"GeV\");\n",
    "dh =  r.RooDataHist(\"dh\",\"plotOn test data with x\",r.RooArgList(rrv_x),h1)\n",
    "\n",
    "print \"Total number of events = \",h1.Integral(),\"\\t Integration = \",h1.Integral(\"width\")\n",
    "\n",
    "#h1.Delete()"
   ]
  },
  {
   "cell_type": "raw",
   "metadata": {
    "collapsed": false
   },
   "source": [
    "rrv_c_Landau = r.RooRealVar(\"rrv_c_Landau\",\"rrv_c_Landau\",1.1371e+03,\"GeV\");\n",
    "rrv_n_Landau = r.RooRealVar(\"rrv_n_Landau\",\"rrv_n_Landau\",1.2339e+02,\"GeV\");\n",
    "model_landau = r.RooLandau(\"model_landau\",\"model_landau\",rrv_x,rrv_c_Landau,rrv_n_Landau) \n",
    "\n",
    "rrv_a_ExpN = r.RooRealVar(\"rrv_a_ExpN\",\"rrv_a_ExpN\",-6.3661e-03,\"GeV\");\n",
    "rrv_b_ExpN = r.RooRealVar(\"rrv_b_ExpN\",\"rrv_b_ExpN\",-1.3944e+03,\"GeV\");\n",
    "model_ExpN = r.RooExpNPdf(\"model_ExpN\",\"model_ExpN\",rrv_x,rrv_a_ExpN,rrv_b_ExpN);\n",
    "\n",
    "frac = r.RooRealVar(\"frac\",\"frac\",0,1);\n",
    "#frac = r.RooRealVar(\"frac\",\"frac\",0.8,0.,1.);\n",
    "\n",
    "model_pdf = r.RooAddPdf(\"model_pdf\",\"model_pdf\",r.RooArgList(model_landau,model_ExpN),r.RooArgList(frac))\n",
    "\n",
    "model_pdf.fitTo(dh,r.RooFit.Save(1),r.RooFit.Extended(1))\n",
    "#model_pdf.fitTo(dh,r.RooFit.Save(1),r.RooFit.Extended(1))\n",
    "\n",
    "\n",
    "frame = rrv_x.frame()\n",
    "dh.plotOn(frame)\n",
    "dh.statOn(frame)\n",
    "\n",
    "model_pdf.plotOn(frame, r.RooFit.LineColor(2))"
   ]
  },
  {
   "cell_type": "raw",
   "metadata": {
    "collapsed": false
   },
   "source": [
    "c1 = r.TCanvas(\"c1\", \"canvas\", 800, 500)\n",
    "c1.SetLogy(1)\n",
    "frame.SetMaximum(1e5)\n",
    "frame.SetMinimum(1e-3)\n",
    "frame.Draw()\n",
    "c1.Draw()"
   ]
  },
  {
   "cell_type": "raw",
   "metadata": {
    "collapsed": false
   },
   "source": [
    "#fullInt = model_pdf.createIntegral(r.RooArgSet(rrv_x))\n",
    "fullInt = model_pdf.createIntegral(r.RooArgSet(rrv_x),r.RooArgSet(rrv_x))\n",
    "#fullInt = model_pdf.createIntegral(r.RooArgSet(rrv_x),r.RooArgSet(rrv_x),170,3500)\n",
    "\n",
    "print fullInt.getVal()\n",
    "#*1.0052e+04\n",
    "#print fullInt1.getVal()*1.0052e+04"
   ]
  },
  {
   "cell_type": "raw",
   "metadata": {
    "collapsed": false
   },
   "source": [
    "model_pdf.Print(\"v\")"
   ]
  },
  {
   "cell_type": "raw",
   "metadata": {
    "collapsed": false
   },
   "source": [
    "model_pdf.Print()"
   ]
  },
  {
   "cell_type": "raw",
   "metadata": {
    "collapsed": false
   },
   "source": [
    "#datahisto = model_pdf.binnedClone(model_pdf.GetName(),\"model_pdf\")\n",
    "if hist:\n",
    "    hist.Delete()\n",
    "\n",
    "hist = r.TH1F()\n",
    "#hist.Sumw2()\n",
    "hist = model_pdf.createHistogram(\"rrv_x\",66)\n",
    "#hist.Sumw2()\n",
    "hist.Scale(1.0052e+04)\n"
   ]
  },
  {
   "cell_type": "raw",
   "metadata": {
    "collapsed": false,
    "scrolled": true
   },
   "source": [
    "c1.Clear()\n",
    "hist.Draw()\n",
    "#h1.Draw(\"same\")\n",
    "c1.Draw()"
   ]
  },
  {
   "cell_type": "raw",
   "metadata": {},
   "source": [
    "rrv_c_Landau = r.RooRealVar(\"rrv_c_Landau\",\"rrv_c_Landau\",50,20,2500);\n",
    "rrv_n_Landau = r.RooRealVar(\"rrv_n_Landau\",\"rrv_n_Landau\",10,10,500);\n",
    "model_landau = r.RooLandau(\"model_landau\",\"model_landau\",rrv_x,rrv_c_Landau,rrv_n_Landau) \n",
    "\n",
    "rrv_a_ExpN = r.RooRealVar(\"rrv_a_ExpN\",\"rrv_a_ExpN\",-4.4e-3,-1e-3,-7e-3);\n",
    "rrv_b_ExpN = r.RooRealVar(\"rrv_b_ExpN\",\"rrv_b_ExpN\",-765,571.0,959.0);\n",
    "model_ExpN = r.RooExpNPdf(\"model_ExpN\",\"model_ExpN\",rrv_x,rrv_a_ExpN,rrv_b_ExpN);\n",
    "\n",
    "frac = r.RooRealVar(\"frac\",\"frac\",0.8,0.,1.);\n",
    "model_pdf = r.RooAddPdf(\"model_pdf\",\"model_pdf\",r.RooArgList(model_landau,model_ExpN),r.RooArgList(frac))\n",
    "\n",
    "\n",
    "#rrv_a_ExpN.SetConstant(1)\n",
    "#rrv_b_ExpN.SetConstant(1)\n",
    "#rrv_c_Landau.SetConstant(1)\n",
    "#rrv_n_Landau.SetConstant(1)\n",
    "\n",
    "\n",
    "model_pdf.fitTo(dh,r.RooFit.Save(1))\n",
    "model_pdf.fitTo(dh,r.RooFit.Save(1))\n",
    "\n",
    "frame = rrv_x.frame() \n",
    "dh.plotOn(frame)\n",
    "dh.statOn(frame); \n",
    "\n",
    "model_pdf.plotOn(frame, r.RooFit.LineColor(2))"
   ]
  },
  {
   "cell_type": "raw",
   "metadata": {},
   "source": [
    "c1 = r.TCanvas(\"c1\", \"canvas\", 800, 500)\n",
    "c1.SetLogy(1)\n",
    "frame.SetMaximum(1e5)\n",
    "frame.SetMinimum(1e-3)\n",
    "frame.Draw()\n",
    "c1.Draw()"
   ]
  }
 ],
 "metadata": {
  "kernelspec": {
   "display_name": "Python 2",
   "language": "python",
   "name": "python2"
  },
  "language_info": {
   "codemirror_mode": {
    "name": "ipython",
    "version": 2
   },
   "file_extension": ".py",
   "mimetype": "text/x-python",
   "name": "python",
   "nbconvert_exporter": "python",
   "pygments_lexer": "ipython2",
   "version": "2.7.11"
  }
 },
 "nbformat": 4,
 "nbformat_minor": 2
}
