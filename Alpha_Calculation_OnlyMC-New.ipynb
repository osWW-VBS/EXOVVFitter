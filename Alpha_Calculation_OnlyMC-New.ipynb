{
 "cells": [
  {
   "cell_type": "markdown",
   "metadata": {},
   "source": [
    "# Alpha Ratio method for W+jet estimation (NEW)\n",
    "\n",
    "> In this notebook I grabed the corrected W+jets from histogram but since this histogram was not contaning the scale to I need to scale it but the scaling method also scales the error bars."
   ]
  },
  {
   "cell_type": "code",
   "execution_count": 1,
   "metadata": {
    "collapsed": false
   },
   "outputs": [
    {
     "data": {
      "application/javascript": [
       "\n",
       "require(['notebook'],\n",
       "  function() {\n",
       "    IPython.CodeCell.config_defaults.highlight_modes['magic_text/x-c++src'] = {'reg':[/^%%cpp/]};\n",
       "    console.log(\"JupyROOT - %%cpp magic configured\");\n",
       "  }\n",
       ");\n"
      ]
     },
     "metadata": {},
     "output_type": "display_data"
    },
    {
     "name": "stdout",
     "output_type": "stream",
     "text": [
      "Welcome to JupyROOT 6.08/05\n"
     ]
    }
   ],
   "source": [
    "import ROOT as r\n",
    "\n",
    "r.gSystem.Load(\"PDFs/PdfDiagonalizer_cc.so\")\n",
    "r.gSystem.Load(\"PDFs/Util_cxx.so\")\n",
    "r.gSystem.Load(\"PDFs/HWWLVJRooPdfs_cxx.so\")\n",
    "\n",
    "# To surpress unwanted messages\n",
    "msgservice = r.RooMsgService.instance()\n",
    "msgservice.setGlobalKillBelow(r.RooFit.FATAL)\n",
    "\n",
    "%matplotlib inline"
   ]
  },
  {
   "cell_type": "code",
   "execution_count": 2,
   "metadata": {
    "collapsed": false,
    "scrolled": true
   },
   "outputs": [],
   "source": [
    "fin = r.TFile.Open(\"root://cmseos.fnal.gov//store/user/rasharma/SecondStep/WWTree_2018_01_25_14h36/Hadds_for_BkgEstimation/WWTree_WJets.root\")\n",
    "\n",
    "treeIn = fin.Get(\"otree\")"
   ]
  },
  {
   "cell_type": "markdown",
   "metadata": {},
   "source": [
    "## Get W+jet histogram in signal and side-band region"
   ]
  },
  {
   "cell_type": "code",
   "execution_count": 3,
   "metadata": {
    "collapsed": false
   },
   "outputs": [
    {
     "data": {
      "text/plain": [
       "10033L"
      ]
     },
     "execution_count": 3,
     "metadata": {},
     "output_type": "execute_result"
    },
    {
     "name": "stderr",
     "output_type": "stream",
     "text": [
      "Info in <TCanvas::MakeDefCanvas>:  created default TCanvas with name c1\n"
     ]
    }
   ],
   "source": [
    "hSignal = r.TH1D(\"hSignal\",\"\",4,170,2502)\n",
    "\n",
    "hSideBand = r.TH1D(\"hSideBand\",\"\",4,170,2502)\n",
    "\n",
    "\n",
    "cutString_SideBand =  \"wSampleWeight*35867.06*btag0Wgt*genWeight*trig_eff_Weight*id_eff_Weight*pu_Weight*((l_pt2<0) && ((l_pt1>30.) && (abs(l_eta1)<2.5)) && ((ungroomed_PuppiAK8_jet_pt>200)&&(abs(ungroomed_PuppiAK8_jet_eta)<2.4)) && ((vbf_maxpt_j1_pt>30) && (vbf_maxpt_j2_pt>30)) &&  (nBTagJet_loose==0) && (pfMET_Corr>50) && ((PuppiAK8_jet_tau2tau1<0.55)) && ((PuppiAK8_jet_mass_so>40 && PuppiAK8_jet_mass_so<65) || (PuppiAK8_jet_mass_so>105 && PuppiAK8_jet_mass_so<150)) && (abs(vbf_maxpt_j2_eta-vbf_maxpt_j1_eta)>4.0) && (vbf_maxpt_jj_m>800) && (BosonCentrality_type0>1.0) && (abs(ZeppenfeldWL_type0/vbf_maxpt_jj_Deta)<0.3) && (abs(ZeppenfeldWH/vbf_maxpt_jj_Deta)<0.3) && (mass_lvj_type0>170))\"\n",
    "\n",
    "cutString_Signal =  \"wSampleWeight*35867.06*btag0Wgt*genWeight*trig_eff_Weight*id_eff_Weight*pu_Weight*((l_pt2<0) && ((l_pt1>30.) && (abs(l_eta1)<2.5)) && ((ungroomed_PuppiAK8_jet_pt>200)&&(abs(ungroomed_PuppiAK8_jet_eta)<2.4)) && ((vbf_maxpt_j1_pt>30) && (vbf_maxpt_j2_pt>30)) &&  (nBTagJet_loose==0) && (pfMET_Corr>50) && ((PuppiAK8_jet_tau2tau1<0.55)) && ((PuppiAK8_jet_mass_so>65) && (PuppiAK8_jet_mass_so<105)) && (abs(vbf_maxpt_j2_eta-vbf_maxpt_j1_eta)>4.0) && (vbf_maxpt_jj_m>800) && (BosonCentrality_type0>1.0) && (abs(ZeppenfeldWL_type0/vbf_maxpt_jj_Deta)<0.3) && (abs(ZeppenfeldWH/vbf_maxpt_jj_Deta)<0.3) && (mass_lvj_type0>170))\"\n",
    "\n",
    "\n",
    "treeIn.Draw(\"mass_lvj_type0>>hSideBand\",cutString_SideBand)\n",
    "treeIn.Draw(\"mass_lvj_type0>>hSignal\",cutString_Signal)\n"
   ]
  },
  {
   "cell_type": "markdown",
   "metadata": {},
   "source": [
    "## Calculate alpha by dividing W+jets MC in signal and side-band region"
   ]
  },
  {
   "cell_type": "code",
   "execution_count": 4,
   "metadata": {
    "collapsed": false
   },
   "outputs": [
    {
     "name": "stdout",
     "output_type": "stream",
     "text": [
      "Alpha does not exists\n"
     ]
    },
    {
     "name": "stderr",
     "output_type": "stream",
     "text": [
      "Warning in <TCanvas::Constructor>: Deleting canvas with same name: c1\n"
     ]
    },
    {
     "data": {
      "image/png": "[encoded data removed]",
      "text/plain": [
       "<IPython.core.display.Image object>"
      ]
     },
     "metadata": {},
     "output_type": "display_data"
    }
   ],
   "source": [
    "try: \n",
    "    Alpha.Delete();\n",
    "except: \n",
    "    print \"Alpha does not exists\";\n",
    "    \n",
    "Alpha =  r.TH1D(\"Alpha\",\"\",4,0,2502)\n",
    "Alpha = hSignal.Clone()\n",
    "Alpha.Divide(hSideBand)\n",
    "c1 = r.TCanvas(\"c1\", \"canvas\", 800, 600)\n",
    "Alpha.GetXaxis().SetTitle(\"mWW (GeV)\")\n",
    "Alpha.GetYaxis().SetTitle(\"alpha from MC only (Signal/Side-band)\")\n",
    "Alpha.Draw()\n",
    "#Alpha.Fit(\"expo\")\n",
    "c1.Draw()"
   ]
  },
  {
   "cell_type": "code",
   "execution_count": 25,
   "metadata": {
    "collapsed": false
   },
   "outputs": [
    {
     "name": "stderr",
     "output_type": "stream",
     "text": [
      "Warning in <TCanvas::Constructor>: Deleting canvas with same name: c\n"
     ]
    },
    {
     "data": {
      "image/png": "[encoded data removed]",
      "text/plain": [
       "<IPython.core.display.Image object>"
      ]
     },
     "metadata": {},
     "output_type": "display_data"
    }
   ],
   "source": [
    "c = r.TCanvas(\"c\", \"canvas\", 800, 600)\n",
    "c.cd()\n",
    "hSignal.SetMarkerColor(1)\n",
    "hSignal.SetLineColor(1)\n",
    "hSignal.SetLineWidth(3)\n",
    "hSignal.SetMarkerSize(5)\n",
    "hSideBand.SetMarkerColor(2)\n",
    "hSideBand.SetLineColor(2)\n",
    "hSideBand.SetLineWidth(3)\n",
    "hSideBand.SetMarkerSize(5)\n",
    "\n",
    "r.TGaxis.SetMaxDigits(3)\n",
    "\n",
    "leg = r.TLegend(0.55,0.9,.9,0.6)\n",
    "leg.AddEntry(hSignal,\"signal region (MC)\")\n",
    "leg.AddEntry(hSideBand,\"SideBand Region (MC)\")\n",
    "\n",
    "hSignal.SetMaximum(8000.)\n",
    "hSignal.SetMinimum(.1)\n",
    "\n",
    "hSignal.Draw()\n",
    "#hSignal.Fit(\"gausn(0)\")\n",
    "hSideBand.Draw(\"same\")\n",
    "leg.Draw()\n",
    "c.SetLogy()\n",
    "c.Draw()"
   ]
  },
  {
   "cell_type": "markdown",
   "metadata": {},
   "source": [
    "# Get corrected W+jet in sideband region after fit to data\n",
    "\n",
    "This histogram is saved in ExoVV fitter using create histogram method:\n",
    "\n",
    "https://github.com/ram1123/EXOVVFitter/blob/master/g1_exo_doFit_class_new.py#L1795-L1796\n",
    "\n",
    "But, this histogram was not taking the normalization so I have to scale it with the normalization. ***But, scaling the histogram also scaling the errors.***"
   ]
  },
  {
   "cell_type": "code",
   "execution_count": 26,
   "metadata": {
    "collapsed": false
   },
   "outputs": [
    {
     "name": "stdout",
     "output_type": "stream",
     "text": [
      "451.710479736\n",
      "40.2695617676\n",
      "7.32409906387\n",
      "2.67882800102\n"
     ]
    },
    {
     "data": {
      "image/png": "[encoded data removed]",
      "text/plain": [
       "<IPython.core.display.Image object>"
      ]
     },
     "metadata": {},
     "output_type": "display_data"
    }
   ],
   "source": [
    "Wjet_file = r.TFile.Open(\"wjetmodel_Ex__WJets0_xww__sb_lo_auto.root\")\n",
    "Wjet_hist = r.TH1F()\n",
    "Wjet_hist.Sumw2()\n",
    "Wjet_hist = Wjet_file.Get(\"rrv_mass_lvj__rrv_mass_lvj\")\n",
    "Wjet_hist.Scale(501.911)\n",
    "\n",
    "newHist = r.TH1F(\"newHist\",\"\",4,170,2502)\n",
    "newHist.Sumw2()\n",
    "newHist.SetMarkerColor(3)\n",
    "newHist.SetLineColor(3)\n",
    "newHist.SetLineWidth(3)\n",
    "newHist.SetMarkerSize(1)\n",
    "binVal = [0]*5\n",
    "binError = [0]*5\n",
    "count=0\n",
    "for i in range(1,47):\n",
    "    if i%12 ==1:\n",
    "        count+=1\n",
    "    binVal[count] += Wjet_hist.GetBinContent(i)\n",
    "    binError[count] += Wjet_hist.GetBinError(i)\n",
    "    #print i,count,Wjet_hist_auto.GetBinContent(i),Wjet_hist_auto.GetBinLowEdge(i)\n",
    "\n",
    "for i in range(1,5):\n",
    "    newHist.SetBinContent(i,binVal[i])\n",
    "    newHist.SetBinError(i,binError[i])\n",
    "\n",
    "newHist.Draw(\"same\")\n",
    "leg.AddEntry(newHist,\"Corr Wjet (SB) 46 bin\")\n",
    "\n",
    "print newHist.GetBinContent(1)\n",
    "print newHist.GetBinContent(2)\n",
    "print newHist.GetBinContent(3)\n",
    "print newHist.GetBinContent(4)\n",
    "\n",
    "Wjet_file4 = r.TFile.Open(\"wjetmodel_Ex__WJets0_xww__sb_lo_4bin.root\")\n",
    "Wjet_hist4 = Wjet_file4.Get(\"model_pdf_WJets0_xww_sb_lo_from_fitting_em_mlvj__rrv_mass_lvj\")\n",
    "Wjet_hist4.Scale(401.911)\n",
    "\n",
    "Wjet_hist4.SetMarkerColor(5)\n",
    "Wjet_hist4.SetLineColor(5)\n",
    "Wjet_hist4.SetLineWidth(3)\n",
    "Wjet_hist4.SetMarkerSize(1)\n",
    "Wjet_hist4.Draw(\"same\")\n",
    "leg.AddEntry(Wjet_hist4,\"Corr Wjet (SB) 4 bin\")\n",
    "\n",
    "\n",
    "# print \"=> \",Wjet_hist.GetBinLowEdge(1),Wjet_hist.GetBinWidth(1)+Wjet_hist.GetBinLowEdge(1),Wjet_hist.GetBinWidth(1)\n",
    "# print \"=> \",Wjet_hist.GetBinLowEdge(2),Wjet_hist.GetBinWidth(2)+Wjet_hist.GetBinLowEdge(2),Wjet_hist.GetBinWidth(2)\n",
    "# print \"=> \",Wjet_hist.GetBinLowEdge(3),Wjet_hist.GetBinWidth(3)+Wjet_hist.GetBinLowEdge(3),Wjet_hist.GetBinWidth(3)\n",
    "# print \"=> \",Wjet_hist.GetBinLowEdge(4),Wjet_hist.GetBinWidth(4)+Wjet_hist.GetBinLowEdge(4),Wjet_hist.GetBinWidth(4)\n",
    "\n",
    "\n",
    "\n",
    "\n",
    "c.Draw()"
   ]
  },
  {
   "cell_type": "markdown",
   "metadata": {},
   "source": [
    "# Multiplication by Alpha to get Signal Region W+jets obtained from data."
   ]
  },
  {
   "cell_type": "code",
   "execution_count": null,
   "metadata": {
    "collapsed": false
   },
   "outputs": [],
   "source": [
    "hModel_Sig = r.TH1F(\"hModel_Sig\",\"\",4,170,2502)\n",
    "hModel_Sig.Sumw2()\n",
    "hModel_Sig.SetMarkerColor(4)\n",
    "hModel_Sig.SetLineColor(4)\n",
    "hModel_Sig.SetLineWidth(3)\n",
    "hModel_Sig.SetMarkerSize(5)\n",
    "\n",
    "hModel_Sig.SetBinContent(1,newHist.GetBinContent(1)*Alpha.GetBinContent(1))\n",
    "hModel_Sig.SetBinContent(2,newHist.GetBinContent(2)*Alpha.GetBinContent(2))\n",
    "hModel_Sig.SetBinContent(3,newHist.GetBinContent(3)*Alpha.GetBinContent(3))\n",
    "hModel_Sig.SetBinContent(4,newHist.GetBinContent(4)*Alpha.GetBinContent(4))\n",
    "\n",
    "hModel_Sig.Draw(\"same\")\n",
    "\n",
    "leg.AddEntry(hModel_Sig,\"W+jet Signal Region (Alpha)\")\n",
    "\n",
    "\n",
    "c.Draw()"
   ]
  },
  {
   "cell_type": "code",
   "execution_count": null,
   "metadata": {
    "collapsed": true
   },
   "outputs": [],
   "source": []
  },
  {
   "cell_type": "code",
   "execution_count": null,
   "metadata": {
    "collapsed": true
   },
   "outputs": [],
   "source": []
  }
 ],
 "metadata": {
  "kernelspec": {
   "display_name": "Python 2",
   "language": "python",
   "name": "python2"
  },
  "language_info": {
   "codemirror_mode": {
    "name": "ipython",
    "version": 2
   },
   "file_extension": ".py",
   "mimetype": "text/x-python",
   "name": "python",
   "nbconvert_exporter": "python",
   "pygments_lexer": "ipython2",
   "version": "2.7.11"
  }
 },
 "nbformat": 4,
 "nbformat_minor": 2
}
