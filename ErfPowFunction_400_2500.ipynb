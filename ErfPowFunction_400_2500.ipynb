{
 "cells": [
  {
   "cell_type": "markdown",
   "metadata": {},
   "source": [
    "# Defined Functions"
   ]
  },
  {
   "cell_type": "code",
   "execution_count": 1,
   "metadata": {
    "collapsed": false
   },
   "outputs": [
    {
     "data": {
      "application/javascript": [
       "\n",
       "require(['notebook'],\n",
       "  function() {\n",
       "    IPython.CodeCell.config_defaults.highlight_modes['magic_text/x-c++src'] = {'reg':[/^%%cpp/]};\n",
       "    console.log(\"JupyROOT - %%cpp magic configured\");\n",
       "  }\n",
       ");\n"
      ]
     },
     "metadata": {},
     "output_type": "display_data"
    },
    {
     "name": "stdout",
     "output_type": "stream",
     "text": [
      "Welcome to JupyROOT 6.08/05\n"
     ]
    }
   ],
   "source": [
    "import ROOT as r\n",
    "\n",
    "#%jsroot on\n",
    "\n",
    "r.gSystem.Load(\"PDFs/PdfDiagonalizer_cc.so\")\n",
    "r.gSystem.Load(\"PDFs/Util_cxx.so\")\n",
    "r.gSystem.Load(\"PDFs/HWWLVJRooPdfs_cxx.so\")\n",
    "\n",
    "# To surpress unwanted messages\n",
    "msgservice = r.RooMsgService.instance()\n",
    "msgservice.setGlobalKillBelow(r.RooFit.FATAL)\n",
    "\n",
    "fin = r.TFile.Open(\"root://cmseos.fnal.gov//store/user/rasharma/SecondStep/WWTree_2018_01_25_14h36/Hadds_for_BkgEstimation/WWTree_WJets.root\")\n",
    "\n",
    "treeIn = fin.Get(\"otree\")\n",
    "\n",
    "\n",
    "cutString_SideBand =  \"wSampleWeight*35867.06*btag0Wgt*genWeight*trig_eff_Weight*id_eff_Weight*pu_Weight*((l_pt2<0) && ((l_pt1>30.) && (abs(l_eta1)<2.5)) && ((ungroomed_PuppiAK8_jet_pt>200)&&(abs(ungroomed_PuppiAK8_jet_eta)<2.4)) && ((vbf_maxpt_j1_pt>30) && (vbf_maxpt_j2_pt>30)) &&  (nBTagJet_loose==0) && (pfMET_Corr>50) && ((PuppiAK8_jet_tau2tau1<0.55)) && ((PuppiAK8_jet_mass_so>40 && PuppiAK8_jet_mass_so<65) || (PuppiAK8_jet_mass_so>105 && PuppiAK8_jet_mass_so<150)) && (abs(vbf_maxpt_j2_eta-vbf_maxpt_j1_eta)>2.0) && (vbf_maxpt_jj_m>500) && (BosonCentrality_type0>1.0) && (abs(ZeppenfeldWL_type0/vbf_maxpt_jj_Deta)<0.3) && (abs(ZeppenfeldWH/vbf_maxpt_jj_Deta)<0.3) && (mass_lvj_type0>400))\"\n",
    "\n",
    "cutString_Signal =  \"wSampleWeight*35867.06*btag0Wgt*genWeight*trig_eff_Weight*id_eff_Weight*pu_Weight*((l_pt2<0) && ((l_pt1>30.) && (abs(l_eta1)<2.5)) && ((ungroomed_PuppiAK8_jet_pt>200)&&(abs(ungroomed_PuppiAK8_jet_eta)<2.4)) && ((vbf_maxpt_j1_pt>30) && (vbf_maxpt_j2_pt>30)) &&  (nBTagJet_loose==0) && (pfMET_Corr>50) && ((PuppiAK8_jet_tau2tau1<0.55)) && ((PuppiAK8_jet_mass_so>65) && (PuppiAK8_jet_mass_so<105)) && (abs(vbf_maxpt_j2_eta-vbf_maxpt_j1_eta)>2.0) && (vbf_maxpt_jj_m>500) && (BosonCentrality_type0>1.0) && (abs(ZeppenfeldWL_type0/vbf_maxpt_jj_Deta)<0.3) && (abs(ZeppenfeldWH/vbf_maxpt_jj_Deta)<0.3) && (mass_lvj_type0>400))\""
   ]
  },
  {
   "cell_type": "code",
   "execution_count": 2,
   "metadata": {
    "collapsed": true
   },
   "outputs": [],
   "source": [
    "def createCanvasPads():\n",
    "    c = r.TCanvas(\"c\", \"canvas\", 950, 600)\n",
    "    # Upper histogram plot is pad1\n",
    "    pad1 = r.TPad(\"pad1\", \"pad1\", 0.0, 0.0, 0.5, 1.0)\n",
    "    pad1.SetTopMargin(0.08)\n",
    "    pad1.SetBottomMargin(0.15)  # joins upper and lower plot\n",
    "    pad1.SetLeftMargin(0.15)\n",
    "    pad1.SetRightMargin(0.01)\n",
    "    pad1.SetLogy(1)\n",
    "    pad1.SetGridx()\n",
    "    pad1.SetTickx(1)\n",
    "    pad1.SetTicky(1)\n",
    "    pad1.Draw()\n",
    "    # Lower ratio plot is pad2\n",
    "    c.cd()  # returns to main canvas before defining pad2\n",
    "    pad2 = r.TPad(\"pad2\", \"pad2\", 0.5, 0.00, 1.0, 1.0)\n",
    "    #pad2.SetLogy(1)\n",
    "    pad2.SetTopMargin(0.08)  # joins upper and lower plot\n",
    "    pad2.SetBottomMargin(0.15)\n",
    "    pad2.SetLeftMargin(0.15)\n",
    "    pad2.SetRightMargin(0.00)\n",
    "    pad2.SetGridx()\n",
    "    pad2.SetTickx(1)\n",
    "    pad2.SetTicky(1)\n",
    "    pad2.Draw()\n",
    "\n",
    "    return c, pad1, pad2"
   ]
  },
  {
   "cell_type": "code",
   "execution_count": 3,
   "metadata": {
    "collapsed": false
   },
   "outputs": [],
   "source": [
    "def get_pull(rrv_x, frame):\n",
    "\n",
    "    hpull = frame.pullHist()\n",
    "\n",
    "    x = r.Double(0.); y = r.Double(0.)\n",
    "    for ipoint in range(0,hpull.GetN()):\n",
    "        hpull.GetPoint(ipoint,x,y);\n",
    "        if (y==0):\n",
    "            hpull.SetPoint(ipoint,x,10)\n",
    "\n",
    "    gt = r.TH1F(\"gt\",\"\",42,400,2500)\n",
    "    gt.SetMinimum(-3.999)\n",
    "    gt.SetMaximum(3.999)\n",
    "    gt.SetDirectory(0)\n",
    "    gt.SetStats(0)\n",
    "    gt.SetLineStyle(0)\n",
    "    gt.SetMarkerStyle(20)\n",
    "    gt.GetXaxis().SetTitle(rrv_x.GetTitle())\n",
    "    gt.GetXaxis().SetLabelFont(42);\n",
    "    gt.GetXaxis().SetLabelOffset(0.02);\n",
    "    gt.GetXaxis().SetLabelSize(0.05);\n",
    "    gt.GetXaxis().SetTitleSize(0.05);\n",
    "    gt.GetXaxis().SetTitleOffset(1.2);\n",
    "    gt.GetXaxis().SetTitleFont(42);\n",
    "    gt.GetYaxis().SetTitle(\"#frac{Data-Fit}{#sigma_{data}}\");\n",
    "    gt.GetYaxis().CenterTitle(True);\n",
    "    gt.GetYaxis().SetNdivisions(205);\n",
    "    gt.GetYaxis().SetLabelFont(42);\n",
    "    gt.GetYaxis().SetLabelOffset(0.007);\n",
    "    gt.GetYaxis().SetLabelSize(0.05);\n",
    "    gt.GetYaxis().SetTitleSize(0.05);\n",
    "    gt.GetYaxis().SetTitleOffset(0.57);\n",
    "    gt.GetYaxis().SetTitleFont(42)\n",
    "    #gt.GetXaxis().SetNdivisions(505)\n",
    "\n",
    "    hpull.SetHistogram(gt)\n",
    "    return hpull"
   ]
  },
  {
   "cell_type": "code",
   "execution_count": 4,
   "metadata": {
    "collapsed": true
   },
   "outputs": [],
   "source": [
    "def pullCanvas():\n",
    "    c=r.TCanvas(\"c\",\"\",800,600)\n",
    "    pad1=r.TPad(\"pad1\",\"pad1\",0.,0. ,1,0.30);\n",
    "    pad2=r.TPad(\"pad2\",\"pad2\",0.,0.3,1.,1. ); \n",
    "    pad2.SetRightMargin(0.1);\n",
    "    pad2.SetTopMargin(0.1);\n",
    "    pad2.SetBottomMargin(0.0001);\n",
    "    pad1.SetRightMargin(0.1)\n",
    "    pad1.SetTopMargin(0)\n",
    "    pad1.SetBottomMargin(0.4)\n",
    "    #pad1.SetRightMargin(0.05)\n",
    "    #pad2.SetRightMargin(0.05)\n",
    "    pad1.Draw();\n",
    "    pad2.Draw();\n",
    "    return c, pad1, pad2"
   ]
  },
  {
   "cell_type": "code",
   "execution_count": 5,
   "metadata": {
    "collapsed": false,
    "scrolled": false
   },
   "outputs": [
    {
     "name": "stdout",
     "output_type": "stream",
     "text": [
      "Entries =  14656.0\n"
     ]
    },
    {
     "name": "stderr",
     "output_type": "stream",
     "text": [
      "Info in <TCanvas::MakeDefCanvas>:  created default TCanvas with name c1\n"
     ]
    },
    {
     "data": {
      "image/png": "[encoded data removed]",
      "text/plain": [
       "<IPython.core.display.Image object>"
      ]
     },
     "metadata": {},
     "output_type": "display_data"
    }
   ],
   "source": [
    "#c = r.TCanvas(\"c\", \"canvas\", 800, 600)\n",
    "\n",
    "h1 = r.TH1F(\"h1\",\"\",42,400,2500)\n",
    "h1.SetMinimum(0.1)\n",
    "h1.GetXaxis().SetTitle(\"M_{ww} (GeV)\")\n",
    "h1.GetYaxis().SetTitle(\"Events / (\"+str((2500-400)/42)+\" GeV)\")\n",
    "h1.SetTitleOffset(1.5,\"Y\")\n",
    "h1.Sumw2()\n",
    "treeIn.Draw(\"mass_lvj_type0>>h1\",cutString_SideBand)\n",
    "c,pad1,pad2 = createCanvasPads()\n",
    "c.cd()\n",
    "pad1.cd()\n",
    "h1.Draw()\n",
    "pad2.cd()\n",
    "h1.Draw()\n",
    "c.Draw()\n",
    "print \"Entries = \",h1.GetEntries()"
   ]
  },
  {
   "cell_type": "code",
   "execution_count": 6,
   "metadata": {
    "collapsed": true
   },
   "outputs": [],
   "source": [
    "rrv_x = r.RooRealVar(\"rrv_x\",\"WW invariant mass\",400,2500);\n",
    "dh =  r.RooDataHist(\"dh\",\"plotOn test data with x\",r.RooArgList(rrv_x),h1)"
   ]
  },
  {
   "cell_type": "markdown",
   "metadata": {},
   "source": [
    "---\n",
    "\n",
    "---\n",
    "\n",
    "## First Function\n",
    "\n",
    "$$f_{ErfPow2} = s^{-(c_0 + c_1 \\times Log(s))} \\times \\frac{1}{2} \\times (1+Erf(\\frac{x-offset}{width}))$$\n",
    "\n",
    "where, $s = \\frac{x}{2000}$\n",
    "\n",
    "**Notes:**\n",
    "1. by tuning parameter $c_o$ and $c_1$ tail can be optimized.\n",
    "2. To tune the peak: presently no idea!!\n",
    "\n",
    "---\n",
    "\n",
    "---"
   ]
  },
  {
   "cell_type": "code",
   "execution_count": 10,
   "metadata": {
    "collapsed": false,
    "scrolled": false
   },
   "outputs": [
    {
     "name": "stdout",
     "output_type": "stream",
     "text": [
      " **********\n",
      " **   21 **SET PRINT           1\n",
      " **********\n",
      " **********\n",
      " **   22 **SET NOGRAD\n",
      " **********\n",
      " PARAMETER DEFINITIONS:\n",
      "    NO.   NAME         VALUE      STEP SIZE      LIMITS\n",
      "     1 rrv_c0_sb    1.56100e+01  5.00000e+00    0.00000e+00  5.00000e+01\n",
      "     2 rrv_c1_sb    2.19700e+00  5.00000e-01    0.00000e+00  5.00000e+00\n",
      "     3 rrv_offset_sb  -5.63000e+03  1.85000e+02   -6.00000e+03 -4.00000e+02\n",
      "     4 rrv_width_sb  -5.54200e+03  4.00000e+02   -8.00000e+03 -4.00000e+03\n",
      " **********\n",
      " **   23 **SET ERR         0.5\n",
      " **********\n",
      " **********\n",
      " **   24 **SET PRINT           1\n",
      " **********\n",
      " **********\n",
      " **   25 **SET STR           1\n",
      " **********\n",
      " NOW USING STRATEGY  1: TRY TO BALANCE SPEED AGAINST RELIABILITY\n",
      " **********\n",
      " **   26 **MIGRAD        2000           1\n",
      " **********\n",
      " FIRST CALL TO USER FUNCTION AT NEW START POINT, WITH IFLAG=4.\n",
      " START MIGRAD MINIMIZATION.  STRATEGY  1.  CONVERGENCE WHEN EDM .LT. 1.00e-03\n",
      " FCN=5583.34 FROM MIGRAD    STATUS=INITIATE      153 CALLS         154 TOTAL\n",
      "                     EDM= unknown      STRATEGY= 1      NO ERROR MATRIX       \n",
      "  EXT PARAMETER               CURRENT GUESS       STEP         FIRST   \n",
      "  NO.   NAME      VALUE            ERROR          SIZE      DERIVATIVE \n",
      "   1  rrv_c0_sb    1.56100e+01   5.00000e+00   0.00000e+00   2.26182e+00\n",
      "   2  rrv_c1_sb    2.19700e+00   5.00000e-01   0.00000e+00  -1.40625e+00\n",
      "   3  rrv_offset_sb  -5.63000e+03   1.85000e+02   0.00000e+00   0.00000e+00\n",
      "   4  rrv_width_sb  -5.54200e+03   4.00000e+02   0.00000e+00   0.00000e+00\n",
      "                               ERR DEF= 0.5\n",
      " MIGRAD MINIMIZATION HAS CONVERGED.\n",
      " MIGRAD WILL VERIFY CONVERGENCE AND ERROR MATRIX.\n",
      " MINUIT WARNING IN HESSE\n",
      " ============== Second derivative enters zero, param 3\n",
      " MINUIT WARNING IN HESSE\n",
      " ============== Second derivative zero for parameter3\n",
      "  MNHESS FAILS AND WILL RETURN DIAGONAL MATRIX. \n",
      " FCN=5583.34 FROM MIGRAD    STATUS=CONVERGED     172 CALLS         173 TOTAL\n",
      "                     EDM=1.65816e-09    STRATEGY= 1  ERROR MATRIX UNCERTAINTY 100.0 per cent\n",
      "  EXT PARAMETER                APPROXIMATE        STEP         FIRST   \n",
      "  NO.   NAME      VALUE            ERROR          SIZE      DERIVATIVE \n",
      "   1  rrv_c0_sb    1.56094e+01   1.08515e-01   2.41705e-04   1.70933e-03\n",
      "   2  rrv_c1_sb    2.19710e+00   1.86308e-02   3.87447e-04   3.68351e-03\n",
      "   3  rrv_offset_sb  -5.63000e+03   2.60090e+02  -0.00000e+00   0.00000e+00\n",
      "   4  rrv_width_sb  -5.54200e+03   1.63822e+03  -0.00000e+00   0.00000e+00\n",
      "                               ERR DEF= 0.5\n",
      " EXTERNAL ERROR MATRIX.    NDIM=  25    NPAR=  4    ERR DEF=0.5\n",
      "  1.178e-02  0.000e+00  0.000e+00  0.000e+00 \n",
      "  0.000e+00  3.471e-04  0.000e+00  0.000e+00 \n",
      "  0.000e+00  0.000e+00  6.845e+04  0.000e+00 \n",
      "  0.000e+00  0.000e+00  0.000e+00  3.790e+06 \n",
      "ERR MATRIX APPROXIMATE\n",
      " PARAMETER  CORRELATION COEFFICIENTS  \n",
      "       NO.  GLOBAL      1      2      3      4\n",
      "        1  0.00000   1.000  0.000  0.000  0.000\n",
      "        2  0.00000   0.000  1.000  0.000  0.000\n",
      "        3  0.00000   0.000  0.000  1.000  0.000\n",
      "        4  0.00000   0.000  0.000  0.000  1.000\n",
      " ERR MATRIX APPROXIMATE\n",
      " **********\n",
      " **   27 **HESSE        2000\n",
      " **********\n",
      " MINUIT WARNING IN HESSE\n",
      " ============== Second derivative zero for parameter3\n",
      "  MNHESS FAILS AND WILL RETURN DIAGONAL MATRIX. \n",
      " FCN=5583.34 FROM HESSE     STATUS=FAILED          9 CALLS         182 TOTAL\n",
      "                     EDM=1.65816e-09    STRATEGY= 1  ERROR MATRIX UNCERTAINTY 100.0 per cent\n",
      "  EXT PARAMETER                APPROXIMATE     INTERNAL      INTERNAL  \n",
      "  NO.   NAME      VALUE            ERROR       STEP SIZE       VALUE   \n",
      "   1  rrv_c0_sb    1.56094e+01   1.08515e-01   2.41705e-04  -3.85069e-01\n",
      "   2  rrv_c1_sb    2.19710e+00   1.86308e-02   3.87447e-04  -1.21459e-01\n",
      "   3  rrv_offset_sb  -5.99986e+03   4.12714e+02  -0.00000e+00  -1.05087e+00\n",
      "   4  rrv_width_sb  -5.54200e+03   1.63822e+03  -0.00000e+00   2.31050e-01\n",
      "                               ERR DEF= 0.5\n",
      " EXTERNAL ERROR MATRIX.    NDIM=  25    NPAR=  4    ERR DEF=0.5\n",
      "  1.178e-02  0.000e+00  0.000e+00  0.000e+00 \n",
      "  0.000e+00  3.471e-04  0.000e+00  0.000e+00 \n",
      "  0.000e+00  0.000e+00  6.845e+04  0.000e+00 \n",
      "  0.000e+00  0.000e+00  0.000e+00  3.790e+06 \n",
      "ERR MATRIX APPROXIMATE\n",
      " PARAMETER  CORRELATION COEFFICIENTS  \n",
      "       NO.  GLOBAL      1      2      3      4\n",
      "        1  0.00000   1.000  0.000  0.000  0.000\n",
      "        2  0.00000   0.000  1.000  0.000  0.000\n",
      "        3  0.00000   0.000  0.000  1.000  0.000\n",
      "        4  0.00000   0.000  0.000  0.000  1.000\n",
      " ERR MATRIX APPROXIMATE\n",
      " **********\n",
      " **   28 **SET ERR         0.5\n",
      " **********\n",
      " **********\n",
      " **   29 **SET PRINT           1\n",
      " **********\n",
      " **********\n",
      " **   30 **HESSE        2000\n",
      " **********\n",
      " MINUIT WARNING IN HESSE\n",
      " ============== Second derivative zero for parameter3\n",
      "  MNHESS FAILS AND WILL RETURN DIAGONAL MATRIX. \n",
      " FCN=5583.34 FROM HESSE     STATUS=FAILED          9 CALLS         191 TOTAL\n",
      "                     EDM=1.65816e-09    STRATEGY= 1  ERROR MATRIX UNCERTAINTY 100.0 per cent\n",
      "  EXT PARAMETER                APPROXIMATE     INTERNAL      INTERNAL  \n",
      "  NO.   NAME      VALUE            ERROR       STEP SIZE       VALUE   \n",
      "   1  rrv_c0_sb    1.56094e+01   1.08515e-01   2.41705e-04  -3.85069e-01\n",
      "   2  rrv_c1_sb    2.19710e+00   1.86308e-02   3.87447e-04  -1.21459e-01\n",
      "   3  rrv_offset_sb  -5.99986e+03   4.12714e+02  -0.00000e+00  -1.05087e+00\n",
      "   4  rrv_width_sb  -5.54200e+03   1.63822e+03  -0.00000e+00   2.31050e-01\n",
      "                               ERR DEF= 0.5\n",
      " EXTERNAL ERROR MATRIX.    NDIM=  25    NPAR=  4    ERR DEF=0.5\n",
      "  1.178e-02  0.000e+00  0.000e+00  0.000e+00 \n",
      "  0.000e+00  3.471e-04  0.000e+00  0.000e+00 \n",
      "  0.000e+00  0.000e+00  6.845e+04  0.000e+00 \n",
      "  0.000e+00  0.000e+00  0.000e+00  3.790e+06 \n",
      "ERR MATRIX APPROXIMATE\n",
      " PARAMETER  CORRELATION COEFFICIENTS  \n",
      "       NO.  GLOBAL      1      2      3      4\n",
      "        1  0.00000   1.000  0.000  0.000  0.000\n",
      "        2  0.00000   0.000  1.000  0.000  0.000\n",
      "        3  0.00000   0.000  0.000  1.000  0.000\n",
      "        4  0.00000   0.000  0.000  0.000  1.000\n",
      " ERR MATRIX APPROXIMATE\n",
      " **********\n",
      " **   31 **SET PRINT           1\n",
      " **********\n",
      " **********\n",
      " **   32 **SET NOGRAD\n",
      " **********\n",
      " PARAMETER DEFINITIONS:\n",
      "    NO.   NAME         VALUE      STEP SIZE      LIMITS\n",
      "     1 rrv_c0_sb    1.56094e+01  1.08515e-01    0.00000e+00  5.00000e+01\n",
      "     2 rrv_c1_sb    2.19710e+00  1.86308e-02    0.00000e+00  5.00000e+00\n",
      "     3 rrv_offset_sb  -5.99986e+03  4.12714e+02   -6.00000e+03 -4.00000e+02\n",
      " MINUIT WARNING IN PARAMETR\n",
      " ============== VARIABLE3 BROUGHT BACK INSIDE LIMITS.\n",
      "     4 rrv_width_sb  -5.54200e+03  1.63822e+03   -8.00000e+03 -4.00000e+03\n",
      " MINUIT WARNING IN PARAMETR\n",
      " ============== VARIABLE4 BROUGHT BACK INSIDE LIMITS.\n",
      " **********\n",
      " **   33 **SET ERR         0.5\n",
      " **********\n",
      " **********\n",
      " **   34 **SET PRINT           1\n",
      " **********\n",
      " **********\n",
      " **   35 **SET STR           1\n",
      " **********\n",
      " NOW USING STRATEGY  1: TRY TO BALANCE SPEED AGAINST RELIABILITY\n",
      " **********\n",
      " **   36 **MIGRAD        2000           1\n",
      " **********\n",
      " FIRST CALL TO USER FUNCTION AT NEW START POINT, WITH IFLAG=4.\n",
      " START MIGRAD MINIMIZATION.  STRATEGY  1.  CONVERGENCE WHEN EDM .LT. 1.00e-03\n",
      " FCN=5583.34 FROM MIGRAD    STATUS=INITIATE      145 CALLS         146 TOTAL\n",
      "                     EDM= unknown      STRATEGY= 1      NO ERROR MATRIX       \n",
      "  EXT PARAMETER               CURRENT GUESS       STEP         FIRST   \n",
      "  NO.   NAME      VALUE            ERROR          SIZE      DERIVATIVE \n",
      "   1  rrv_c0_sb    1.56094e+01   1.08515e-01   0.00000e+00   1.70988e-03\n",
      "   2  rrv_c1_sb    2.19710e+00   1.86308e-02   0.00000e+00   3.68318e-03\n",
      "   3  rrv_offset_sb  -5.99986e+03   4.12714e+02   0.00000e+00   0.00000e+00\n",
      "   4  rrv_width_sb  -5.54200e+03   1.63822e+03   0.00000e+00   0.00000e+00\n",
      "                               ERR DEF= 0.5\n",
      " MIGRAD MINIMIZATION HAS CONVERGED.\n",
      " MIGRAD WILL VERIFY CONVERGENCE AND ERROR MATRIX.\n",
      " MINUIT WARNING IN HESSE\n",
      " ============== Second derivative enters zero, param 3\n",
      " MINUIT WARNING IN HESSE\n",
      " ============== Second derivative zero for parameter3\n",
      "  MNHESS FAILS AND WILL RETURN DIAGONAL MATRIX. \n",
      " FCN=5583.34 FROM MIGRAD    STATUS=CONVERGED     166 CALLS         167 TOTAL\n",
      "                     EDM=3.16712e-09    STRATEGY= 1  ERROR MATRIX UNCERTAINTY 100.0 per cent\n",
      "  EXT PARAMETER                APPROXIMATE        STEP         FIRST   \n",
      "  NO.   NAME      VALUE            ERROR          SIZE      DERIVATIVE \n",
      "   1  rrv_c0_sb    1.56094e+01   1.08515e-01   2.41674e-04   8.45196e-03\n",
      "   2  rrv_c1_sb    2.19710e+00   1.86308e-02   3.87399e-04  -5.41808e-04\n",
      "   3  rrv_offset_sb  -5.99986e+03   4.96219e+03  -0.00000e+00   0.00000e+00\n",
      "   4  rrv_width_sb  -5.54200e+03   1.63822e+03  -0.00000e+00   0.00000e+00\n",
      "                               ERR DEF= 0.5\n",
      " EXTERNAL ERROR MATRIX.    NDIM=  25    NPAR=  4    ERR DEF=0.5\n",
      "  1.178e-02  0.000e+00  0.000e+00  0.000e+00 \n",
      "  0.000e+00  3.471e-04  0.000e+00  0.000e+00 \n",
      "  0.000e+00  0.000e+00  3.407e+05  0.000e+00 \n",
      "  0.000e+00  0.000e+00  0.000e+00  3.790e+06 \n",
      "ERR MATRIX APPROXIMATE\n",
      " PARAMETER  CORRELATION COEFFICIENTS  \n",
      "       NO.  GLOBAL      1      2      3      4\n",
      "        1  0.00000   1.000  0.000  0.000  0.000\n",
      "        2  0.00000   0.000  1.000  0.000  0.000\n",
      "        3  0.00000   0.000  0.000  1.000  0.000\n",
      "        4  0.00000   0.000  0.000  0.000  1.000\n",
      " ERR MATRIX APPROXIMATE\n",
      " **********\n",
      " **   37 **HESSE        2000\n",
      " **********\n",
      " MINUIT WARNING IN HESSE\n",
      " ============== Second derivative zero for parameter3\n",
      "  MNHESS FAILS AND WILL RETURN DIAGONAL MATRIX. \n",
      " FCN=5583.34 FROM HESSE     STATUS=FAILED          9 CALLS         176 TOTAL\n",
      "                     EDM=3.16712e-09    STRATEGY= 1  ERROR MATRIX UNCERTAINTY 100.0 per cent\n",
      "  EXT PARAMETER                APPROXIMATE     INTERNAL      INTERNAL  \n",
      "  NO.   NAME      VALUE            ERROR       STEP SIZE       VALUE   \n",
      "   1  rrv_c0_sb    1.56094e+01   1.08515e-01   2.41674e-04  -3.85069e-01\n",
      "   2  rrv_c1_sb    2.19710e+00   1.86308e-02   3.87399e-04  -1.21459e-01\n",
      "   3  rrv_offset_sb  -5.65713e+03   4.79082e+03  -0.00000e+00  -1.56087e+00\n",
      "   4  rrv_width_sb  -5.54200e+03   1.63822e+03  -0.00000e+00   2.31050e-01\n",
      "                               ERR DEF= 0.5\n",
      " EXTERNAL ERROR MATRIX.    NDIM=  25    NPAR=  4    ERR DEF=0.5\n",
      "  1.178e-02  0.000e+00  0.000e+00  0.000e+00 \n",
      "  0.000e+00  3.471e-04  0.000e+00  0.000e+00 \n",
      "  0.000e+00  0.000e+00  3.407e+05  0.000e+00 \n",
      "  0.000e+00  0.000e+00  0.000e+00  3.790e+06 \n",
      "ERR MATRIX APPROXIMATE\n",
      " PARAMETER  CORRELATION COEFFICIENTS  \n",
      "       NO.  GLOBAL      1      2      3      4\n",
      "        1  0.00000   1.000  0.000  0.000  0.000\n",
      "        2  0.00000   0.000  1.000  0.000  0.000\n",
      "        3  0.00000   0.000  0.000  1.000  0.000\n",
      "        4  0.00000   0.000  0.000  0.000  1.000\n",
      " ERR MATRIX APPROXIMATE\n",
      " **********\n",
      " **   38 **SET ERR         0.5\n",
      " **********\n",
      " **********\n",
      " **   39 **SET PRINT           1\n",
      " **********\n",
      " **********\n",
      " **   40 **HESSE        2000\n",
      " **********\n",
      " MINUIT WARNING IN HESSE\n",
      " ============== Second derivative zero for parameter3\n",
      "  MNHESS FAILS AND WILL RETURN DIAGONAL MATRIX. \n",
      " FCN=5583.34 FROM HESSE     STATUS=FAILED          9 CALLS         185 TOTAL\n",
      "                     EDM=3.16712e-09    STRATEGY= 1  ERROR MATRIX UNCERTAINTY 100.0 per cent\n",
      "  EXT PARAMETER                APPROXIMATE     INTERNAL      INTERNAL  \n",
      "  NO.   NAME      VALUE            ERROR       STEP SIZE       VALUE   \n",
      "   1  rrv_c0_sb    1.56094e+01   1.08515e-01   2.41674e-04  -3.85069e-01\n",
      "   2  rrv_c1_sb    2.19710e+00   1.86308e-02   3.87399e-04  -1.21459e-01\n",
      "   3  rrv_offset_sb  -5.65713e+03   4.79082e+03  -0.00000e+00  -1.56087e+00\n",
      "   4  rrv_width_sb  -5.54200e+03   1.63822e+03  -0.00000e+00   2.31050e-01\n",
      "                               ERR DEF= 0.5\n",
      " EXTERNAL ERROR MATRIX.    NDIM=  25    NPAR=  4    ERR DEF=0.5\n",
      "  1.178e-02  0.000e+00  0.000e+00  0.000e+00 \n",
      "  0.000e+00  3.471e-04  0.000e+00  0.000e+00 \n",
      "  0.000e+00  0.000e+00  3.407e+05  0.000e+00 \n",
      "  0.000e+00  0.000e+00  0.000e+00  3.790e+06 \n",
      "ERR MATRIX APPROXIMATE\n",
      " PARAMETER  CORRELATION COEFFICIENTS  \n",
      "       NO.  GLOBAL      1      2      3      4\n",
      "        1  0.00000   1.000  0.000  0.000  0.000\n",
      "        2  0.00000   0.000  1.000  0.000  0.000\n",
      "        3  0.00000   0.000  0.000  1.000  0.000\n",
      "        4  0.00000   0.000  0.000  0.000  1.000\n",
      " ERR MATRIX APPROXIMATE\n",
      "\n",
      "  RooFitResult: minimized FCN value: 5583.34, estimated distance to minimum: 3.16712e-09\n",
      "                covariance matrix quality: Approximation only, not accurate\n",
      "                Status : MINIMIZE=0 HESSE=0 \n",
      "\n",
      "    Floating Parameter    FinalValue +/-  Error   \n",
      "  --------------------  --------------------------\n",
      "             rrv_c0_sb    1.5609e+01 +/-  1.09e-01\n",
      "             rrv_c1_sb    2.1971e+00 +/-  1.86e-02\n",
      "         rrv_offset_sb   -5.6571e+03 +/-  4.79e+03\n",
      "          rrv_width_sb   -5.5420e+03 +/-  1.64e+03\n",
      "\n"
     ]
    }
   ],
   "source": [
    "rrv_c0_sb     = r.RooRealVar(\"rrv_c0_sb\",\"rrv_c0_sb\",15.61,0.,50) \n",
    "rrv_c1_sb     = r.RooRealVar(\"rrv_c1_sb\",\"rrv_c1_sb\",2.197,0,5)\n",
    "rrv_offset_sb = r.RooRealVar(\"rrv_offset_sb\",\"rrv_offset_sb\",-5630,-6000,-400)\n",
    "rrv_width_sb  = r.RooRealVar(\"rrv_width_sb\",\"rrv_width_sb\",-5542,-8000,-4000.0)\n",
    "            \n",
    "model_pdf = r.RooErfPow2Pdf(\"model_pdf\",\"model_pdf\",rrv_x,rrv_c0_sb,rrv_c1_sb,rrv_offset_sb,rrv_width_sb)\n",
    "rfresult = model_pdf.fitTo(dh,r.RooFit.Save(1), r.RooFit.NumCPU(4))\n",
    "rfresult = model_pdf.fitTo(dh,r.RooFit.Save(1), r.RooFit.NumCPU(4))\n",
    "\n",
    "\n",
    "frame = rrv_x.frame() \n",
    "dh.plotOn(frame)\n",
    "\n",
    "model_pdf.plotOn(frame, r.RooFit.LineColor(2))\n",
    "model_pdf.paramOn(frame)\n",
    "\n",
    "rfresult.Print()"
   ]
  },
  {
   "cell_type": "code",
   "execution_count": 11,
   "metadata": {
    "collapsed": false
   },
   "outputs": [
    {
     "name": "stderr",
     "output_type": "stream",
     "text": [
      "Warning in <TCanvas::Constructor>: Deleting canvas with same name: c\n",
      "Info in <TCanvas::Print>: png file mWW_withpull.png has been created\n"
     ]
    },
    {
     "data": {
      "image/png": "[encoded data removed]",
      "text/plain": [
       "<IPython.core.display.Image object>"
      ]
     },
     "metadata": {},
     "output_type": "display_data"
    }
   ],
   "source": [
    "c,pad1,pad2 = pullCanvas()\n",
    "pad2.cd()\n",
    "frame.Draw()\n",
    "pad1.cd()\n",
    "hpull = get_pull(rrv_x,frame)\n",
    "hpull.Draw(\"AP\")\n",
    "medianLine = r.TLine(frame.GetXaxis().GetXmin(),0.,frame.GetXaxis().GetXmax(),0.); medianLine.SetLineWidth(2); medianLine.SetLineColor(2);\n",
    "medianLine.Draw()\n",
    "c.Draw()\n",
    "c.SaveAs(\"mWW_withpull.png\")"
   ]
  },
  {
   "cell_type": "code",
   "execution_count": 12,
   "metadata": {
    "collapsed": false
   },
   "outputs": [
    {
     "name": "stderr",
     "output_type": "stream",
     "text": [
      "Warning in <TCanvas::Constructor>: Deleting canvas with same name: c\n",
      "Info in <TCanvas::Print>: png file mWW_withpull_log.png has been created\n"
     ]
    },
    {
     "data": {
      "image/png": "[encoded data removed]",
      "text/plain": [
       "<IPython.core.display.Image object>"
      ]
     },
     "metadata": {},
     "output_type": "display_data"
    }
   ],
   "source": [
    "c,pad1,pad2 = pullCanvas()\n",
    "pad2.cd()\n",
    "pad2.SetLogy(1)\n",
    "frame.Draw()\n",
    "pad1.cd()\n",
    "hpull = get_pull(rrv_x,frame)\n",
    "hpull.Draw(\"AP\")\n",
    "medianLine = r.TLine(frame.GetXaxis().GetXmin(),0.,frame.GetXaxis().GetXmax(),0.); medianLine.SetLineWidth(2); medianLine.SetLineColor(2);\n",
    "medianLine.Draw()\n",
    "c.Draw()\n",
    "c.SaveAs(\"mWW_withpull_log.png\")"
   ]
  },
  {
   "cell_type": "raw",
   "metadata": {
    "collapsed": false
   },
   "source": [
    "c,pad1,pad2 = createCanvasPads()\n",
    "pad1.cd()\n",
    "frame.Draw()\n",
    "pad2.cd()\n",
    "frame.Draw()\n",
    "c.Draw()"
   ]
  },
  {
   "cell_type": "markdown",
   "metadata": {
    "collapsed": true
   },
   "source": [
    "---\n",
    "\n",
    "---\n",
    "\n",
    "## Second Function\n",
    "\n",
    "$$f_{ErfPow3} = s^{-(c_0 + c_1 \\times Log(s) + c_2 \\times Log(s)) \\times Log(s)} \\times \\frac{1}{2} \\times (1+Erf(\\frac{x-offset}{width}))$$\n",
    "\n",
    "where, $s = \\frac{x}{13000}$\n",
    "\n",
    "**Notes:**\n",
    "1. by tuning parameter $c_o$ and $c_1$ tail can be optimized.\n",
    "2. To tune the peak: presently no idea!!\n",
    "\n",
    "---\n",
    "\n",
    "---"
   ]
  },
  {
   "cell_type": "raw",
   "metadata": {
    "collapsed": false,
    "scrolled": false
   },
   "source": [
    "#rrv_c0_sb     = r.RooRealVar(\"rrv_c0_sb\",\"rrv_c0_sb\",8.36982,-10000.,50000) \n",
    "#rrv_c1_sb     = r.RooRealVar(\"rrv_c1_sb\",\"rrv_c1_sb\",2.82493,-50000,50000)\n",
    "rrv_c2_sb     = r.RooRealVar(\"rrv_c2_sb\",\"rrv_c2_sb\",2.82493,-10000,10000)\n",
    "#rrv_offset_sb = r.RooRealVar(\"rrv_offset_sb\",\"rrv_offset_sb\",-123.681,-50000,10000)\n",
    "#rrv_width_sb  = r.RooRealVar(\"rrv_width_sb\",\"rrv_width_sb\",-341.32,-10000,10000.0)\n",
    "            \n",
    "model_pdf = r.RooErfPow3Pdf(\"model_pdf\",\"model_pdf\",rrv_x,rrv_c0_sb,rrv_c1_sb,rrv_c2_sb,rrv_offset_sb,rrv_width_sb)\n",
    "#model_pdf.fitTo(dh)\n",
    "model_pdf.fitTo(dh,r.RooFit.Save(1),r.RooFit.Extended(1), r.RooFit.NumCPU(4))\n",
    "model_pdf.fitTo(dh,r.RooFit.Save(1),r.RooFit.Extended(1), r.RooFit.NumCPU(4))\n",
    "rfresult = model_pdf.fitTo(dh,r.RooFit.Save(1),r.RooFit.Extended(1), r.RooFit.Minimizer(\"Minuit2\"), r.RooFit.NumCPU(4))\n",
    "\n",
    "frame = rrv_x.frame() \n",
    "dh.plotOn(frame)\n",
    "\n",
    "model_pdf.plotOn(frame, r.RooFit.LineColor(2))\n",
    "model_pdf.paramOn(frame)\n",
    "rfresult.Print()\n",
    "\n",
    "#frame.pullHist()"
   ]
  },
  {
   "cell_type": "raw",
   "metadata": {
    "collapsed": false,
    "scrolled": false
   },
   "source": [
    "c,pad1,pad2 = createCanvasPads()\n",
    "pad1.cd()\n",
    "frame.Draw()\n",
    "pad2.cd()\n",
    "frame.Draw()\n",
    "c.Draw()"
   ]
  },
  {
   "cell_type": "raw",
   "metadata": {
    "collapsed": false
   },
   "source": [
    "c,pad1,pad2 = pullCanvas()\n",
    "pad2.cd()\n",
    "frame.Draw()\n",
    "pad1.cd()\n",
    "hpull = get_pull(rrv_x,frame)\n",
    "hpull.Draw(\"AP\")\n",
    "medianLine = r.TLine(frame.GetXaxis().GetXmin(),0.,frame.GetXaxis().GetXmax(),0.); medianLine.SetLineWidth(2); medianLine.SetLineColor(2);\n",
    "medianLine.Draw()\n",
    "c.Draw()\n",
    "c.SaveAs(\"test2.png\")\n",
    "frame.Print(\"v\")"
   ]
  },
  {
   "cell_type": "markdown",
   "metadata": {
    "collapsed": true
   },
   "source": [
    "---\n",
    "\n",
    "---\n",
    "\n",
    "## Third Function\n",
    "\n",
    "$$f_{ErfPowExp} = s^{-c_1Log(s)} \\times e^{c_0s} \\times \\frac{1}{2} \\times (1+Erf(\\frac{x-offset}{width}))$$\n",
    "\n",
    "where, $s = \\frac{x}{13000}$\n",
    "\n",
    "**Notes:**\n",
    "1. by tuning parameter $c_o$ and $c_1$ tail can be optimized.\n",
    "2. To tune the peak: presently no idea!!\n",
    "\n",
    "---\n",
    "\n",
    "---"
   ]
  },
  {
   "cell_type": "raw",
   "metadata": {
    "collapsed": false
   },
   "source": [
    "rrv_c0_sb     = r.RooRealVar(\"rrv_c0_sb\",\"rrv_c0_sb\",8.36982,-10.,50) \n",
    "rrv_c1_sb     = r.RooRealVar(\"rrv_c1_sb\",\"rrv_c1_sb\",2.82493,-50,50)\n",
    "rrv_offset_sb = r.RooRealVar(\"rrv_offset_sb\",\"rrv_offset_sb\",-123.681,-500,100)\n",
    "rrv_width_sb  = r.RooRealVar(\"rrv_width_sb\",\"rrv_width_sb\",-2341.32,-5000,0.0)\n",
    "            \n",
    "model_pdf = r.RooErfPowExpPdf(\"model_pdf\",\"model_pdf\",rrv_x,rrv_c0_sb,rrv_c1_sb,rrv_offset_sb,rrv_width_sb)\n",
    "model_pdf.fitTo(dh)\n",
    "\n",
    "frame = rrv_x.frame() \n",
    "dh.plotOn(frame)\n",
    "\n",
    "model_pdf.plotOn(frame, r.RooFit.LineColor(2))\n",
    "model_pdf.paramOn(frame)"
   ]
  },
  {
   "cell_type": "raw",
   "metadata": {
    "collapsed": false
   },
   "source": [
    "c,pad1,pad2 = createCanvasPads()\n",
    "pad1.cd()\n",
    "frame.Draw()\n",
    "pad2.cd()\n",
    "frame.Draw()\n",
    "c.Draw()"
   ]
  },
  {
   "cell_type": "code",
   "execution_count": null,
   "metadata": {
    "collapsed": true
   },
   "outputs": [],
   "source": []
  },
  {
   "cell_type": "code",
   "execution_count": null,
   "metadata": {
    "collapsed": true
   },
   "outputs": [],
   "source": []
  },
  {
   "cell_type": "code",
   "execution_count": null,
   "metadata": {
    "collapsed": true
   },
   "outputs": [],
   "source": []
  }
 ],
 "metadata": {
  "kernelspec": {
   "display_name": "Python 2",
   "language": "python",
   "name": "python2"
  },
  "language_info": {
   "codemirror_mode": {
    "name": "ipython",
    "version": 2
   },
   "file_extension": ".py",
   "mimetype": "text/x-python",
   "name": "python",
   "nbconvert_exporter": "python",
   "pygments_lexer": "ipython2",
   "version": "2.7.11"
  }
 },
 "nbformat": 4,
 "nbformat_minor": 2
}
