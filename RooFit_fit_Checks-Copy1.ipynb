{
 "cells": [
  {
   "cell_type": "code",
   "execution_count": 7,
   "metadata": {
    "collapsed": false
   },
   "outputs": [],
   "source": [
    "import ROOT as r\n",
    "\n",
    "r.gSystem.Load(\"PDFs/PdfDiagonalizer_cc.so\")\n",
    "r.gSystem.Load(\"PDFs/Util_cxx.so\")\n",
    "r.gSystem.Load(\"PDFs/HWWLVJRooPdfs_cxx.so\")\n",
    "\n",
    "# To surpress unwanted messages\n",
    "msgservice = r.RooMsgService.instance()\n",
    "msgservice.setGlobalKillBelow(r.RooFit.FATAL)\n",
    "\n",
    "%matplotlib inline"
   ]
  },
  {
   "cell_type": "code",
   "execution_count": 8,
   "metadata": {
    "collapsed": false,
    "scrolled": true
   },
   "outputs": [],
   "source": [
    "fin = r.TFile.Open(\"root://cmseos.fnal.gov//store/user/rasharma/SecondStep/WWTree_2018_01_25_14h36/Hadds_for_BkgEstimation/WWTree_WJets.root\")\n",
    "\n",
    "treeIn = fin.Get(\"otree\")"
   ]
  },
  {
   "cell_type": "code",
   "execution_count": 9,
   "metadata": {
    "collapsed": false
   },
   "outputs": [],
   "source": [
    "#cutString =  \"(l_pt2<0 && l_pt1>30 && abs(l_eta1)<2.5 && pfMET_Corr>50 && PuppiAK8_jet_tau2tau1<0.55 && ungroomed_PuppiAK8_jet_pt>200 abs(ungroomed_PuppiAK8_jet_eta)<2.4 && nBTagJet_loose==0 && BosonCentrality_type0>1.0 && (ZeppenfeldWL_type0/vbf_maxpt_jj_Deta)<0.3 && (ZeppenfeldWH/vbf_maxpt_jj_Deta) <0.3 && vbf_maxpt_jj_m>800 && vbf_maxpt_jj_Deta>4.0 && vbf_maxpt_j1_pt>30 && vbf_maxpt_j2_pt>30 && (PuppiAK8_jet_mass_so>40 && PuppiAK8_jet_mass_so<150) &(mass_lvj_type0>170)\"\n",
    "\n",
    "rrv_l_pt2 = r.RooRealVar(\"rrv_l_pt2\",\"rrv_l_pt2\",-10000,10000)\n",
    "rrv_l_pt1 = r.RooRealVar(\"rrv_l_pt1\",\"rrv_l_pt1\",0,1000)\n",
    "rfv_cutstring = r.RooFormulaVar(\"rfv_cutstring\",\"rfv_cutstring\",\"l_pt2<0 && l_pt1>30\",\n",
    "                               r.RooArgList(rrv_l_pt2,rrv_l_pt1)\n",
    "                               )"
   ]
  },
  {
   "cell_type": "code",
   "execution_count": 10,
   "metadata": {
    "collapsed": false
   },
   "outputs": [
    {
     "name": "stderr",
     "output_type": "stream",
     "text": [
      "Error in <RooFormula::Compile>:  Bad numerical expression : \"l_pt2\"\n"
     ]
    }
   ],
   "source": [
    "rrv_x = r.RooRealVar(\"mass_lvj_type0\",\"mass_lvj_type0\",170,3500)\n",
    "data1 = r.RooDataSet(\"data1\",\"data1\",treeIn,r.RooArgSet(rrv_x))\n",
    "data2 = r.RooDataSet(\"data2\",\"data2\",treeIn,r.RooArgSet(rrv_x),r.RooFormulaVar(rfv_cutstring))"
   ]
  },
  {
   "cell_type": "code",
   "execution_count": 11,
   "metadata": {
    "collapsed": false
   },
   "outputs": [
    {
     "name": "stderr",
     "output_type": "stream",
     "text": [
      "Warning in <TCanvas::Constructor>: Deleting canvas with same name: c1\n"
     ]
    },
    {
     "data": {
      "image/png": "[encoded data removed]",
      "text/plain": [
       "<IPython.core.display.Image object>"
      ]
     },
     "metadata": {},
     "output_type": "display_data"
    }
   ],
   "source": [
    "frame = rrv_x.frame() \n",
    "data1.plotOn(frame)\n",
    "#data2.plotOn(frame)\n",
    "c1 = r.TCanvas(\"c1\", \"canvas1\", 800, 600)\n",
    "frame.Draw()\n",
    "c1.Draw()"
   ]
  },
  {
   "cell_type": "code",
   "execution_count": null,
   "metadata": {
    "collapsed": false,
    "scrolled": true
   },
   "outputs": [],
   "source": [
    "def createCanvasPads():\n",
    "    c = r.TCanvas(\"c\", \"canvas\", 1600, 800)\n",
    "    # Upper histogram plot is pad1\n",
    "    pad1 = r.TPad(\"pad1\", \"pad1\", 0.0, 0.0, 0.5, 1.0)\n",
    "    pad1.SetTopMargin(0.15)\n",
    "    pad1.SetBottomMargin(0.15)  # joins upper and lower plot\n",
    "    pad1.SetLeftMargin(0.0)\n",
    "    pad1.SetRightMargin(0.15)\n",
    "    pad1.SetLogy(1)\n",
    "    pad1.SetGridx()\n",
    "    pad1.SetTickx(1)\n",
    "    pad1.SetTicky(1)\n",
    "    pad1.Draw()\n",
    "    # Lower ratio plot is pad2\n",
    "    c.cd()  # returns to main canvas before defining pad2\n",
    "    pad2 = r.TPad(\"pad2\", \"pad2\", 0.5, 0.00, 1.0, 1.0)\n",
    "    #pad2.SetLogy(1)\n",
    "    pad2.SetTopMargin(0.15)  # joins upper and lower plot\n",
    "    pad2.SetBottomMargin(0.15)\n",
    "    pad2.SetLeftMargin(0.15)\n",
    "    pad2.SetRightMargin(0.0)\n",
    "    pad2.SetGridx()\n",
    "    pad2.SetTickx(1)\n",
    "    pad2.SetTicky(1)\n",
    "    pad2.Draw()\n",
    "\n",
    "    return c, pad1, pad2"
   ]
  },
  {
   "cell_type": "markdown",
   "metadata": {},
   "source": [
    "**Get histogram to RooVariable and delete the histogram**"
   ]
  },
  {
   "cell_type": "code",
   "execution_count": null,
   "metadata": {
    "collapsed": false,
    "scrolled": true
   },
   "outputs": [],
   "source": [
    "rrv_x = r.RooRealVar(\"rrv_x\",\"WW invariant mass\",170,3500);\n",
    "dh =  r.RooDataHist(\"dh\",\"plotOn test data with x\",r.RooArgList(rrv_x),h1)\n",
    "\n",
    "h1.Delete()"
   ]
  },
  {
   "cell_type": "markdown",
   "metadata": {},
   "source": [
    "## 1. Dan's Function\n",
    "\n",
    "$$f(x) = e^{p_0(x + p_1x^2)}$$"
   ]
  },
  {
   "cell_type": "code",
   "execution_count": null,
   "metadata": {
    "collapsed": false
   },
   "outputs": [],
   "source": [
    "rrv_a_Dan = r.RooRealVar(\"rrv_a_Dan\",\"rrv_a_Dan\",-2.28320e-03,-10.28320e-03,-0.28320e-05);\n",
    "rrv_b_Dan = r.RooRealVar(\"rrv_b_Dan\",\"rrv_b_Dan\",-2.28320e-03,-10.28320e-03,-0.28320e-03);\n",
    "model_Dan = r.RooExpDan(\"model_Dan\",\"model_Dan\",rrv_x,rrv_a_Dan,rrv_b_Dan);\n",
    "#model_Dan.fitTo(dh,r.RooFit.Save(1))\n",
    "model_Dan.fitTo(dh)\n",
    "\n",
    "\n",
    "frame = rrv_x.frame() \n",
    "dh.plotOn(frame)\n",
    "#dh.statOn(frame); \n",
    "\n",
    "model_Dan.plotOn(frame, r.RooFit.LineColor(2))\n",
    "model_Dan.paramOn(frame)"
   ]
  },
  {
   "cell_type": "code",
   "execution_count": null,
   "metadata": {
    "collapsed": false
   },
   "outputs": [],
   "source": [
    "c,pad1,pad2 = createCanvasPads()\n",
    "pad1.cd()\n",
    "frame.Draw()\n",
    "pad2.cd()\n",
    "frame.Draw()\n",
    "c.Draw()"
   ]
  },
  {
   "cell_type": "markdown",
   "metadata": {},
   "source": [
    "## 2. Landau"
   ]
  },
  {
   "cell_type": "code",
   "execution_count": null,
   "metadata": {
    "collapsed": false,
    "scrolled": true
   },
   "outputs": [],
   "source": [
    "# Clear the previous canvas\n",
    "c.Clear()\n",
    "frame.Delete()\n",
    "rrv_c_Landau = r.RooRealVar(\"rrv_c_Landau\",\"rrv_c_Landau\",50,20,2500);\n",
    "rrv_n_Landau = r.RooRealVar(\"rrv_n_Landau\",\"rrv_n_Landau\",10,10,500);\n",
    "\n",
    "model_landau = r.RooLandau(\"model_landau\",\"model_landau\",rrv_x,rrv_c_Landau,rrv_n_Landau) \n",
    "\n",
    "model_landau.fitTo(dh,r.RooFit.Save(1))\n",
    "\n",
    "frame = rrv_x.frame() \n",
    "dh.plotOn(frame)\n",
    "dh.statOn(frame); \n",
    "\n",
    "model_landau.plotOn(frame, r.RooFit.LineColor(2))"
   ]
  },
  {
   "cell_type": "code",
   "execution_count": null,
   "metadata": {
    "collapsed": false
   },
   "outputs": [],
   "source": [
    "c,pad1,pad2 = createCanvasPads()\n",
    "pad1.cd()\n",
    "frame.Draw()\n",
    "pad2.cd()\n",
    "frame.Draw()\n",
    "c.Draw()"
   ]
  },
  {
   "cell_type": "markdown",
   "metadata": {},
   "source": [
    "## 3. Gaussian"
   ]
  },
  {
   "cell_type": "code",
   "execution_count": null,
   "metadata": {
    "collapsed": false,
    "scrolled": true,
    "slideshow": {
     "slide_type": "-"
    }
   },
   "outputs": [],
   "source": [
    "# Clear the previous canvas\n",
    "c.Clear()\n",
    "frame.Delete()\n",
    "\n",
    "rrv_c_Gaus = r.RooRealVar(\"rrv_c_Gaus\",\"rrv_c_Gaus\",583,200, 700);\n",
    "rrv_n_Gaus = r.RooRealVar(\"rrv_n_Gaus\",\"rrv_n_Gaus\",100,5,400);\n",
    "model_gaus = r.RooGaussian(\"model_gaus\",\"model_gaus\",rrv_x,rrv_c_Gaus, rrv_n_Gaus);\n",
    "\n",
    "model_gaus.fitTo(dh)\n",
    "\n",
    "frame = rrv_x.frame() \n",
    "dh.plotOn(frame)\n",
    "dh.statOn(frame); \n",
    "\n",
    "model_gaus.plotOn(frame, r.RooFit.LineColor(2))"
   ]
  },
  {
   "cell_type": "code",
   "execution_count": null,
   "metadata": {
    "collapsed": false
   },
   "outputs": [],
   "source": [
    "c,pad1,pad2 = createCanvasPads()\n",
    "pad1.cd()\n",
    "frame.Draw()\n",
    "pad2.cd()\n",
    "frame.Draw()\n",
    "c.Draw()"
   ]
  },
  {
   "cell_type": "markdown",
   "metadata": {},
   "source": [
    "# ErfExp"
   ]
  },
  {
   "cell_type": "code",
   "execution_count": null,
   "metadata": {
    "collapsed": false,
    "scrolled": true
   },
   "outputs": [],
   "source": [
    "# Clear the previous canvas\n",
    "c.Clear()\n",
    "frame.Delete()\n",
    "\n",
    "rrv_c_ErfExp = r.RooRealVar(\"rrv_c_ErfExp\",\"rrv_c_ErfExp\",-0.05,-0.1,-1e-4);\n",
    "rrv_offset_ErfExp = r.RooRealVar(\"rrv_offset_ErfExp\",\"rrv_offset_ErfExp\",60.,30.,120);\n",
    "rrv_width_ErfExp = r.RooRealVar(\"rrv_width_ErfExp\",\"rrv_width_ErfExp\",30.,10, 60.)\n",
    "model_ErfExp = r.RooErfExpPdf(\"model_ErfExp\",\"model_ErfExp\",rrv_x,rrv_c_ErfExp, rrv_offset_ErfExp, rrv_width_ErfExp);\n",
    "\n",
    "model_ErfExp.fitTo(dh,r.RooFit.Save(1))\n",
    "\n",
    "frame = rrv_x.frame() \n",
    "dh.plotOn(frame)\n",
    "dh.statOn(frame); \n",
    "\n",
    "model_ErfExp.plotOn(frame, r.RooFit.LineColor(2))"
   ]
  },
  {
   "cell_type": "code",
   "execution_count": null,
   "metadata": {
    "collapsed": false
   },
   "outputs": [],
   "source": [
    "c,pad1,pad2 = createCanvasPads()\n",
    "pad1.cd()\n",
    "frame.Draw()\n",
    "pad2.cd()\n",
    "frame.Draw()\n",
    "c.Draw()"
   ]
  },
  {
   "cell_type": "markdown",
   "metadata": {},
   "source": [
    "## ErfExp V1 (Different initial parameters)"
   ]
  },
  {
   "cell_type": "code",
   "execution_count": null,
   "metadata": {
    "collapsed": false,
    "scrolled": true
   },
   "outputs": [],
   "source": [
    "# Clear the previous canvas\n",
    "c.Clear()\n",
    "frame.Delete()\n",
    "\n",
    "rrv_c_ErfExp_v1 = r.RooRealVar(\"rrv_c_ErfExp_v1\",\"rrv_c_ErfExp_v1\",-0.006,-0.1,0.);\n",
    "rrv_offset_ErfExp_v1 = r.RooRealVar(\"rrv_offset_ErfExp_v1\",\"rrv_offset_ErfExp_v1\",450.,400.,550.);\n",
    "rrv_width_ErfExp_v1 = r.RooRealVar(\"rrv_width_ErfExp_v1\",\"rrv_width_ErfExp_v1\",70.,10,100.)\n",
    "model_ErfExp_v1 = r.RooErfExpPdf(\"model_ErfExp_v1\",\"model_ErfExp_v1\",rrv_x,rrv_c_ErfExp_v1, rrv_offset_ErfExp_v1, rrv_width_ErfExp_v1);\n",
    "\n",
    "model_ErfExp_v1.fitTo(dh,r.RooFit.Save(1))\n",
    "\n",
    "frame = rrv_x.frame() \n",
    "dh.plotOn(frame)\n",
    "dh.statOn(frame); \n",
    "\n",
    "model_ErfExp_v1.plotOn(frame, r.RooFit.LineColor(2))"
   ]
  },
  {
   "cell_type": "code",
   "execution_count": null,
   "metadata": {
    "collapsed": false
   },
   "outputs": [],
   "source": [
    "c,pad1,pad2 = createCanvasPads()\n",
    "pad1.cd()\n",
    "frame.Draw()\n",
    "pad2.cd()\n",
    "frame.Draw()\n",
    "c.Draw()"
   ]
  },
  {
   "cell_type": "markdown",
   "metadata": {},
   "source": [
    "## ErfExp v2"
   ]
  },
  {
   "cell_type": "code",
   "execution_count": null,
   "metadata": {
    "collapsed": false,
    "scrolled": true
   },
   "outputs": [],
   "source": [
    "# Clear the previous canvas\n",
    "c.Clear()\n",
    "frame.Delete()\n",
    "\n",
    "rrv_c_ErfExp = r.RooRealVar(\"rrv_c_ErfExp\",\"rrv_c_ErfExp\",-0.006,-0.1,0.);\n",
    "rrv_offset_ErfExp = r.RooRealVar(\"rrv_offset_ErfExp\",\"rrv_offset_ErfExp\",450.,400.,550.);\n",
    "rrv_width_ErfExp = r.RooRealVar(\"rrv_width_ErfExp\",\"rrv_width_ErfExp\",70.,10,100.)\n",
    "rrv_residue_ErfExp = r.RooRealVar(\"rrv_residue_ErfExp\",\"rrv_residue_ErfExp\",0.,0.,1.)\n",
    "#model_ErfExp_v2 = r.RooErfExpPdf(\"model_ErfExp_v2\",\"model_ErfExp_v2\",rrv_x,rrv_c_ErfExp_v2, rrv_offset_ErfExp_v2, rrv_width_ErfExp_v2);\n",
    "\n",
    "model_ErfExp_v2 = r.RooGenericPdf(\"model_ErfExp_v2\",\"model_ErfExp_v2\",\"(TMath::Exp(%s*%s) + %s)*(1.+TMath::Erf((%s-%s)/%s))/2. \"%(rrv_c_ErfExp.GetName(),rrv_x.GetName(), rrv_residue_ErfExp.GetName(), rrv_x.GetName(),rrv_offset_ErfExp.GetName(), rrv_width_ErfExp.GetName()), r.RooArgList(rrv_x,rrv_c_ErfExp,rrv_offset_ErfExp,rrv_width_ErfExp,rrv_residue_ErfExp))\n",
    "\n",
    "model_ErfExp_v2.fitTo(dh,r.RooFit.Save(1))\n",
    "\n",
    "frame = rrv_x.frame() \n",
    "dh.plotOn(frame)\n",
    "dh.statOn(frame); \n",
    "\n",
    "model_ErfExp_v2.plotOn(frame, r.RooFit.LineColor(2))"
   ]
  },
  {
   "cell_type": "code",
   "execution_count": null,
   "metadata": {
    "collapsed": false
   },
   "outputs": [],
   "source": [
    "c,pad1,pad2 = createCanvasPads()\n",
    "pad1.cd()\n",
    "frame.Draw()\n",
    "pad2.cd()\n",
    "frame.Draw()\n",
    "c.Draw()"
   ]
  },
  {
   "cell_type": "markdown",
   "metadata": {},
   "source": [
    "## ErfExp V3"
   ]
  },
  {
   "cell_type": "code",
   "execution_count": null,
   "metadata": {
    "collapsed": false,
    "scrolled": true
   },
   "outputs": [],
   "source": [
    "# Clear the previous canvas\n",
    "c.Clear()\n",
    "frame.Delete()\n",
    "\n",
    "rrv_c_ErfExp       = r.RooRealVar(\"rrv_c_ErfExp\",\"rrv_c_ErfExp\",-0.005,-0.1,0.);\n",
    "rrv_offset_ErfExp  = r.RooRealVar(\"rrv_offset_ErfExp\",\"rrv_offset_ErfExp\",450.,400,500.);\n",
    "rrv_width_ErfExp   = r.RooRealVar(\"rrv_width_ErfExp\",\"rrv_width_ErfExp\", 50.,10,100.);\n",
    "rrv_residue_ErfExp = r.RooRealVar(\"rrv_residue_ErfExp\",\"rrv_residue_ErfExp\",0.,0.,1.);\n",
    "rrv_high_ErfExp    = r.RooRealVar(\"rrv_high_ErfExp\",\"rrv_high_ErfExp\",1.,0.,400);\n",
    "rrv_high_ErfExp.setConstant(1);\n",
    "model_ErfExp_v3 = r.RooGenericPdf(\"model_ErfExp_v3\",\"model_ErfExp_v3\", \"(TMath::Exp(%s*%s) + %s)* TMath::Power( ((1+TMath::Erf((%s-%s)/%s))/2.), %s )\"%(rrv_c_ErfExp.GetName(),rrv_x.GetName(), rrv_residue_ErfExp.GetName(),rrv_x.GetName(),rrv_offset_ErfExp.GetName(), rrv_width_ErfExp.GetName(), rrv_high_ErfExp.GetName()), r.RooArgList(rrv_x,rrv_c_ErfExp,rrv_offset_ErfExp,rrv_high_ErfExp,rrv_width_ErfExp,rrv_residue_ErfExp) )\n",
    "\n",
    "model_ErfExp_v3.fitTo(dh,r.RooFit.Save(1))\n",
    "\n",
    "frame = rrv_x.frame() \n",
    "dh.plotOn(frame)\n",
    "dh.statOn(frame); \n",
    "\n",
    "model_ErfExp_v3.plotOn(frame, r.RooFit.LineColor(2))"
   ]
  },
  {
   "cell_type": "code",
   "execution_count": null,
   "metadata": {
    "collapsed": false
   },
   "outputs": [],
   "source": [
    "c,pad1,pad2 = createCanvasPads()\n",
    "pad1.cd()\n",
    "frame.Draw()\n",
    "pad2.cd()\n",
    "frame.Draw()\n",
    "c.Draw()"
   ]
  },
  {
   "cell_type": "markdown",
   "metadata": {},
   "source": [
    "## User 1"
   ]
  },
  {
   "cell_type": "code",
   "execution_count": null,
   "metadata": {
    "collapsed": false,
    "scrolled": true
   },
   "outputs": [],
   "source": [
    "# Clear the previous canvas\n",
    "c.Clear()\n",
    "frame.Delete()\n",
    "\n",
    "rrv_p0 = r.RooRealVar(\"rrv_p0_User1\",\"rrv_p0_User1\", 30, 10, 90);\n",
    "rrv_p1 = r.RooRealVar(\"rrv_p1_User1\",\"rrv_p1_User1\", -2, -4, 0);\n",
    "model_User1=r.RooUser1Pdf(\"model_User1\",\"model_User1\",rrv_x,rrv_p0,rrv_p1);\n",
    "\n",
    "model_User1.fitTo(dh,r.RooFit.Save(1))\n",
    "\n",
    "frame = rrv_x.frame() \n",
    "dh.plotOn(frame)\n",
    "dh.statOn(frame); \n",
    "\n",
    "model_User1.plotOn(frame, r.RooFit.LineColor(2))"
   ]
  },
  {
   "cell_type": "code",
   "execution_count": null,
   "metadata": {
    "collapsed": false
   },
   "outputs": [],
   "source": [
    "c,pad1,pad2 = createCanvasPads()\n",
    "pad1.cd()\n",
    "frame.Draw()\n",
    "pad2.cd()\n",
    "frame.Draw()\n",
    "c.Draw()"
   ]
  },
  {
   "cell_type": "markdown",
   "metadata": {},
   "source": [
    "## ExpGauss"
   ]
  },
  {
   "cell_type": "code",
   "execution_count": null,
   "metadata": {
    "collapsed": false,
    "scrolled": true
   },
   "outputs": [],
   "source": [
    "# Clear the previous canvas\n",
    "c.Clear()\n",
    "frame.Delete()\n",
    "\n",
    "rrv_c_Exp       = r.RooRealVar(\"rrv_c_Exp\",\"rrv_c_Exp\",0.05,-0.2,0.2);\n",
    "exp             = r.RooExponential(\"exp\",\"exp\",rrv_x,rrv_c_Exp);\n",
    "\n",
    "rrv_mean1_gaus  = r.RooRealVar(\"rrv_mean1_gaus\",\"rrv_mean1_gaus\",583,200, 700);\n",
    "rrv_sigma1_gaus = r.RooRealVar(\"rrv_smgma1_gaus\",\"rrv_sigma1_gaus\",100,5,400);\n",
    "rrv_high        = r.RooRealVar(\"rrv_high\",\"rrv_high\",0.5,0.,1.);\n",
    "gaus            = r.RooGaussian(\"gaus\",\"gaus\", rrv_x,rrv_mean1_gaus,rrv_sigma1_gaus);\n",
    "\n",
    "model_ExpGaus       = r.RooAddPdf(\"model_ExpGaus\",\"model_ExpGaus\",r.RooArgList(exp,gaus),r.RooArgList(rrv_high))\n",
    "\n",
    "model_ExpGaus.fitTo(dh,r.RooFit.Save(1))\n",
    "\n",
    "frame = rrv_x.frame() \n",
    "dh.plotOn(frame)\n",
    "dh.statOn(frame); \n",
    "\n",
    "model_ExpGaus.plotOn(frame, r.RooFit.LineColor(2))"
   ]
  },
  {
   "cell_type": "code",
   "execution_count": null,
   "metadata": {
    "collapsed": false,
    "scrolled": false
   },
   "outputs": [],
   "source": [
    "c,pad1,pad2 = createCanvasPads()\n",
    "pad1.cd()\n",
    "frame.Draw()\n",
    "pad2.cd()\n",
    "frame.Draw()\n",
    "c.Draw()"
   ]
  },
  {
   "cell_type": "code",
   "execution_count": null,
   "metadata": {
    "collapsed": false
   },
   "outputs": [],
   "source": [
    "# Clear the previous canvas\n",
    "c.Clear()\n",
    "frame.Delete()\n",
    "\n",
    "rrv_a_ExpN = r.RooRealVar(\"rrv_a_ExpN\",\"rrv_a_ExpN\",-4.4e-3,-1e-3,-7e-3);\n",
    "rrv_b_ExpN = r.RooRealVar(\"rrv_b_ExpN\",\"rrv_b_ExpN\",-765,571.0,959.0);\n",
    "model_ExpN = r.RooExpNPdf(\"model_ExpN\",\"model_ExpN\",rrv_x,rrv_a_Dan,rrv_b_Dan);\n",
    "\n",
    "model_ExpN.fitTo(dh,r.RooFit.Save(1))\n",
    "model_ExpN.fitTo(dh,r.RooFit.Save(1))\n",
    "\n",
    "\n",
    "frame = rrv_x.frame() \n",
    "dh.plotOn(frame)\n",
    "#dh.statOn(frame); \n",
    "\n",
    "model_ExpN.plotOn(frame, r.RooFit.LineColor(2))\n",
    "model_ExpN.paramOn(frame)"
   ]
  },
  {
   "cell_type": "code",
   "execution_count": null,
   "metadata": {
    "collapsed": false
   },
   "outputs": [],
   "source": [
    "c,pad1,pad2 = createCanvasPads()\n",
    "pad1.cd()\n",
    "frame.Draw()\n",
    "pad2.cd()\n",
    "frame.Draw()\n",
    "c.Draw()"
   ]
  },
  {
   "cell_type": "markdown",
   "metadata": {},
   "source": [
    "## Gaus * ExpN"
   ]
  },
  {
   "cell_type": "code",
   "execution_count": null,
   "metadata": {
    "collapsed": false
   },
   "outputs": [],
   "source": [
    "# Clear the previous canvas\n",
    "#c.Clear()\n",
    "#frame.Delete()\n",
    "\n",
    "frac = r.RooRealVar(\"frac\",\"frac\",0.5,0.,0.1);\n",
    "\n",
    "#model_GausExpN = r.RooProdPdf(\"model_GausExpN\",\"model_GausExpN\",model_gaus,model_ExpN)\n",
    "model_GausExpN = r.RooAddPdf(\"model_GausExpN\",\"model_GausExpN\",r.RooArgList(model_gaus,model_ExpN),r.RooArgList(frac),1)\n",
    "\n",
    "\n",
    "model_GausExpN.fitTo(dh,r.RooFit.Save(1))\n",
    "model_GausExpN.fitTo(dh,r.RooFit.Save(1))\n",
    "\n",
    "\n",
    "frame = rrv_x.frame() \n",
    "dh.plotOn(frame)\n",
    "#dh.statOn(frame); \n",
    "\n",
    "model_GausExpN.plotOn(frame, r.RooFit.LineColor(2))\n",
    "model_GausExpN.paramOn(frame)"
   ]
  },
  {
   "cell_type": "code",
   "execution_count": null,
   "metadata": {
    "collapsed": false
   },
   "outputs": [],
   "source": [
    "c,pad1,pad2 = createCanvasPads()\n",
    "pad1.cd()\n",
    "frame.Draw()\n",
    "pad2.cd()\n",
    "frame.Draw()\n",
    "c.Draw()"
   ]
  },
  {
   "cell_type": "markdown",
   "metadata": {},
   "source": [
    "## Dan+Gaus"
   ]
  },
  {
   "cell_type": "code",
   "execution_count": null,
   "metadata": {
    "collapsed": false,
    "scrolled": false
   },
   "outputs": [],
   "source": [
    "# Clear the previous canvas\n",
    "c.Clear()\n",
    "frame.Delete()\n",
    "\n",
    "frac = r.RooRealVar(\"frac\",\"frac\",0.5,0.,0.1);\n",
    "\n",
    "model_DanGaus = r.RooAddPdf(\"model_DanGaus\",\"model_DanGaus\",r.RooArgList(model_Dan,model_gaus),r.RooArgList(frac),1)\n",
    "\n",
    "\n",
    "model_DanGaus.fitTo(dh,r.RooFit.Save(1))\n",
    "model_DanGaus.fitTo(dh,r.RooFit.Save(1))\n",
    "\n",
    "\n",
    "frame = rrv_x.frame() \n",
    "dh.plotOn(frame)\n",
    "#dh.statOn(frame); \n",
    "\n",
    "model_DanGaus.plotOn(frame, r.RooFit.LineColor(2))\n",
    "model_DanGaus.paramOn(frame)"
   ]
  },
  {
   "cell_type": "code",
   "execution_count": null,
   "metadata": {
    "collapsed": false
   },
   "outputs": [],
   "source": [
    "c,pad1,pad2 = createCanvasPads()\n",
    "pad1.cd()\n",
    "frame.Draw()\n",
    "pad2.cd()\n",
    "frame.Draw()\n",
    "c.Draw()"
   ]
  },
  {
   "cell_type": "code",
   "execution_count": null,
   "metadata": {
    "collapsed": true
   },
   "outputs": [],
   "source": []
  }
 ],
 "metadata": {
  "kernelspec": {
   "display_name": "Python 2",
   "language": "python",
   "name": "python2"
  },
  "language_info": {
   "codemirror_mode": {
    "name": "ipython",
    "version": 2
   },
   "file_extension": ".py",
   "mimetype": "text/x-python",
   "name": "python",
   "nbconvert_exporter": "python",
   "pygments_lexer": "ipython2",
   "version": "2.7.11"
  }
 },
 "nbformat": 4,
 "nbformat_minor": 2
}
