{
 "cells": [
  {
   "cell_type": "markdown",
   "metadata": {},
   "source": [
    "# Check working of \"createHistogram\" method of RooFit"
   ]
  },
  {
   "cell_type": "code",
   "execution_count": 2,
   "metadata": {
    "collapsed": false
   },
   "outputs": [
    {
     "data": {
      "application/javascript": [
       "\n",
       "require(['notebook'],\n",
       "  function() {\n",
       "    IPython.CodeCell.config_defaults.highlight_modes['magic_text/x-c++src'] = {'reg':[/^%%cpp/]};\n",
       "    console.log(\"JupyROOT - %%cpp magic configured\");\n",
       "  }\n",
       ");\n"
      ]
     },
     "metadata": {},
     "output_type": "display_data"
    },
    {
     "name": "stdout",
     "output_type": "stream",
     "text": [
      "Welcome to JupyROOT 6.08/05\n"
     ]
    }
   ],
   "source": [
    "import ROOT as r\n",
    "\n",
    "r.gSystem.Load(\"PDFs/PdfDiagonalizer_cc.so\")\n",
    "r.gSystem.Load(\"PDFs/Util_cxx.so\")\n",
    "r.gSystem.Load(\"PDFs/HWWLVJRooPdfs_cxx.so\")\n",
    "\n",
    "msgservice = r.RooMsgService.instance()\n",
    "msgservice.setGlobalKillBelow(r.RooFit.FATAL)\n",
    "\n",
    "fin = r.TFile.Open(\"root://cmseos.fnal.gov//store/user/rasharma/SecondStep/WWTree_2018_01_07_12h02/HaddedFiles/Hadds_for_BkgEstimation/WWTree_WJets.root\")\n",
    "\n",
    "treeIn = fin.Get(\"otree\")"
   ]
  },
  {
   "cell_type": "code",
   "execution_count": 3,
   "metadata": {
    "collapsed": false
   },
   "outputs": [
    {
     "name": "stdout",
     "output_type": "stream",
     "text": [
      "10782.0 618.742163211\n"
     ]
    },
    {
     "name": "stderr",
     "output_type": "stream",
     "text": [
      "Info in <TCanvas::MakeDefCanvas>:  created default TCanvas with name c1\n"
     ]
    }
   ],
   "source": [
    "h1 = r.TH1F(\"h1\",\"\",22,170,2502)\n",
    "\n",
    "h2 = r.TH1F(\"h2\",\"\",22,170,2502)\n",
    "\n",
    "cutString_SideBand =  \"((l_pt2<0) && ((l_pt1>30.) && (abs(l_eta1)<2.5)) && ((ungroomed_PuppiAK8_jet_pt>200)&&(abs(ungroomed_PuppiAK8_jet_eta)<2.4)) && ((vbf_maxpt_j1_pt>30) && (vbf_maxpt_j2_pt>30)) &&  (nBTagJet_loose==0) && (pfMET_Corr>50) && ((PuppiAK8_jet_tau2tau1<0.55)) && ((PuppiAK8_jet_mass_so>40 && PuppiAK8_jet_mass_so<65) || (PuppiAK8_jet_mass_so>105 && PuppiAK8_jet_mass_so<150)) && (abs(vbf_maxpt_j2_eta-vbf_maxpt_j1_eta)>4.0) && (vbf_maxpt_jj_m>800) && (BosonCentrality_type0>1.0) && (abs(ZeppenfeldWL_type0/vbf_maxpt_jj_Deta)<0.3) && (abs(ZeppenfeldWH/vbf_maxpt_jj_Deta)<0.3) && (mass_lvj_type0>170))\"\n",
    "\n",
    "cutString_SideBand2 =  \"wSampleWeight*35867.06*btag0Wgt*genWeight*trig_eff_Weight*id_eff_Weight*pu_Weight*((l_pt2<0) && ((l_pt1>30.) && (abs(l_eta1)<2.5)) && ((ungroomed_PuppiAK8_jet_pt>200)&&(abs(ungroomed_PuppiAK8_jet_eta)<2.4)) && ((vbf_maxpt_j1_pt>30) && (vbf_maxpt_j2_pt>30)) &&  (nBTagJet_loose==0) && (pfMET_Corr>50) && ((PuppiAK8_jet_tau2tau1<0.55)) && ((PuppiAK8_jet_mass_so>40 && PuppiAK8_jet_mass_so<65) || (PuppiAK8_jet_mass_so>105 && PuppiAK8_jet_mass_so<150)) && (abs(vbf_maxpt_j2_eta-vbf_maxpt_j1_eta)>4.0) && (vbf_maxpt_jj_m>800) && (BosonCentrality_type0>1.0) && (abs(ZeppenfeldWL_type0/vbf_maxpt_jj_Deta)<0.3) && (abs(ZeppenfeldWH/vbf_maxpt_jj_Deta)<0.3) && (mass_lvj_type0>170))\"\n",
    "\n",
    "\n",
    "treeIn.Draw(\"mass_lvj_type0>>h1\",cutString_SideBand)\n",
    "treeIn.Draw(\"mass_lvj_type0>>h2\",cutString_SideBand2)\n",
    "print h1.Integral(),h2.Integral()"
   ]
  },
  {
   "cell_type": "code",
   "execution_count": 4,
   "metadata": {
    "collapsed": false
   },
   "outputs": [],
   "source": [
    "rrv_x = r.RooRealVar(\"rrv_x\",\"AK8 invariant mass\",170,3500);\n",
    "\n",
    "dh =  r.RooDataHist(\"dh\",\"plotOn test data with x\",r.RooArgList(rrv_x),h1)\n",
    "dh2 =  r.RooDataHist(\"dh2\",\"plotOn test data with x (with weight)\",r.RooArgList(rrv_x),h2)"
   ]
  },
  {
   "cell_type": "code",
   "execution_count": 5,
   "metadata": {
    "collapsed": false
   },
   "outputs": [],
   "source": [
    "# Landau PDF\n",
    "rrv_c_landau = r.RooRealVar(\"rrv_c_landau\",\"rrv_c_landau\",50,20,2500);\n",
    "rrv_n_landau = r.RooRealVar(\"rrv_n_landau\",\"rrv_n_landau\",10,10,500);\n",
    "model_landau = r.RooLandau(\"model_landau\",\"model_landau\",rrv_x,rrv_c_landau,rrv_n_landau) \n",
    "\n",
    "# ExpN PDF\n",
    "rrv_c_ExpN = r.RooRealVar(\"rrv_c_ExpN\",\"rrv_c_ExpN\",-5.32e-3,-1e-1,-1e-6);\n",
    "rrv_n_ExpN = r.RooRealVar(\"rrv_n_ExpN\",\"rrv_n_ExpN\", -940.3, -1e4, -900);\n",
    "model_ExpN = r.RooExpNPdf(\"model_ExpN\",\"model_ExpN\",rrv_x,rrv_c_ExpN, rrv_n_ExpN);\n",
    "\n",
    "# Add two pdf\n",
    "frac = r.RooRealVar(\"frac\",\"frac\",0.5,0.,1.)\n",
    "model_pdf = r.RooAddPdf(\"model_pdf\",\"model_pdf\",r.RooArgList(model_landau,model_ExpN),r.RooArgList(frac));"
   ]
  },
  {
   "cell_type": "code",
   "execution_count": 6,
   "metadata": {
    "collapsed": false,
    "scrolled": true
   },
   "outputs": [
    {
     "data": {
      "text/plain": [
       "<ROOT.RooFitResult object (\"fitresult_model_pdf_dh\") at 0x70223f0>"
      ]
     },
     "execution_count": 6,
     "metadata": {},
     "output_type": "execute_result"
    },
    {
     "name": "stdout",
     "output_type": "stream",
     "text": [
      " **********\n",
      " **    1 **SET PRINT           1\n",
      " **********\n",
      " **********\n",
      " **    2 **SET NOGRAD\n",
      " **********\n",
      " PARAMETER DEFINITIONS:\n",
      "    NO.   NAME         VALUE      STEP SIZE      LIMITS\n",
      "     1 frac         5.00000e-01  1.00000e-01    0.00000e+00  1.00000e+00\n",
      "     2 rrv_c_ExpN  -5.32000e-03  2.65950e-03   -1.00000e-01 -1.00000e-06\n",
      "     3 rrv_c_landau   5.00000e+01  1.50000e+01    2.00000e+01  2.50000e+03\n",
      "     4 rrv_n_ExpN  -9.40300e+02  2.01500e+01   -1.00000e+04 -9.00000e+02\n",
      "     5 rrv_n_landau   1.00000e+01  4.90000e+01    1.00000e+01  5.00000e+02\n",
      " MINUIT WARNING IN PARAM DEF\n",
      " ============== STARTING VALUE IS AT LIMIT.\n",
      " MINUIT WARNING IN PARAMETR\n",
      " ============== VARIABLE5 IS AT ITS LOWER ALLOWED LIMIT.\n",
      " MINUIT WARNING IN PARAMETR\n",
      " ============== VARIABLE5 BROUGHT BACK INSIDE LIMITS.\n",
      " **********\n",
      " **    3 **SET ERR         0.5\n",
      " **********\n",
      " **********\n",
      " **    4 **SET PRINT           1\n",
      " **********\n",
      " **********\n",
      " **    5 **SET STR           1\n",
      " **********\n",
      " NOW USING STRATEGY  1: TRY TO BALANCE SPEED AGAINST RELIABILITY\n",
      " **********\n",
      " **    6 **MIGRAD        2500           1\n",
      " **********\n",
      " FIRST CALL TO USER FUNCTION AT NEW START POINT, WITH IFLAG=4.\n",
      " MINUIT WARNING IN MIGrad    \n",
      " ============== VARIABLE5 IS AT ITS LOWER ALLOWED LIMIT.\n",
      " START MIGRAD MINIMIZATION.  STRATEGY  1.  CONVERGENCE WHEN EDM .LT. 1.00e-03\n",
      " FCN=76258.1 FROM MIGRAD    STATUS=INITIATE       85 CALLS          86 TOTAL\n",
      "                     EDM= unknown      STRATEGY= 1      NO ERROR MATRIX       \n",
      "  EXT PARAMETER               CURRENT GUESS       STEP         FIRST   \n",
      "  NO.   NAME      VALUE            ERROR          SIZE      DERIVATIVE \n",
      "   1  frac         5.00000e-01   1.00000e-01   0.00000e+00   5.66405e+02\n",
      "   2  rrv_c_ExpN  -5.32000e-03   2.65950e-03   0.00000e+00   6.65028e+03\n",
      "   3  rrv_c_landau   3.62420e+02   1.50000e+01   5.41006e-01  -1.74597e+02\n",
      "   4  rrv_n_ExpN  -1.70007e+03   2.01500e+01   0.00000e+00  -1.49276e+03\n",
      "   5  rrv_n_landau   1.93741e+02   4.90000e+01   0.00000e+00   1.03294e+03\n",
      "                               ERR DEF= 0.5\n",
      " MINUIT WARNING IN MIGRAD  \n",
      " ============== Negative diagonal element 2 in Error Matrix\n",
      " MINUIT WARNING IN MIGRAD  \n",
      " ============== 1 added to diagonal of error matrix\n",
      " MIGRAD FAILS TO FIND IMPROVEMENT\n",
      " MINUIT WARNING IN HESSE   \n",
      " ============== Negative diagonal element 2 in Error Matrix\n",
      " MINUIT WARNING IN HESSE   \n",
      " ============== 1.19069e+07 added to diagonal of error matrix\n",
      " EIGENVALUES OF SECOND-DERIVATIVE MATRIX:\n",
      "        -1.3979e+01  9.9943e-01  9.9994e-01  1.0001e+00  1.5980e+01\n",
      " MINUIT WARNING IN HESSE   \n",
      " ============== MATRIX FORCED POS-DEF BY ADDING 13.995235 TO DIAGONAL.\n",
      " FCN=75816.3 FROM HESSE     STATUS=NOT POSDEF     33 CALLS         242 TOTAL\n",
      "                     EDM=2.11747e+06    STRATEGY= 1      ERR MATRIX NOT POS-DEF\n",
      "  EXT PARAMETER                APPROXIMATE        STEP         FIRST   \n",
      "  NO.   NAME      VALUE            ERROR          SIZE      DERIVATIVE \n",
      "   1  frac         2.38323e-01   6.71815e-05   8.25689e-03   3.83616e+00\n",
      "   2  rrv_c_ExpN  -5.03084e-03   5.18241e-02   4.24520e-04   3.67824e+02\n",
      "   3  rrv_c_landau   4.37558e+02   6.66518e-01   1.91651e-03  -2.48708e+01\n",
      "   4  rrv_n_ExpN  -1.19976e+03   2.31435e+00   2.88104e-05  -1.20627e+02\n",
      "   5  rrv_n_landau   1.34646e+02   5.75291e-02   4.69418e-03  -6.49254e+01\n",
      "                               ERR DEF= 0.5\n",
      " MIGRAD FAILS TO FIND IMPROVEMENT\n",
      " MIGRAD TERMINATED WITHOUT CONVERGENCE.\n",
      " FCN=75816.3 FROM MIGRAD    STATUS=FAILED        252 CALLS         253 TOTAL\n",
      "                     EDM=2.11747e+06    STRATEGY= 1      ERR MATRIX NOT POS-DEF\n",
      "  EXT PARAMETER                APPROXIMATE        STEP         FIRST   \n",
      "  NO.   NAME      VALUE            ERROR          SIZE      DERIVATIVE \n",
      "   1  frac         2.38323e-01   6.71815e-05   0.00000e+00   3.83616e+00\n",
      "   2  rrv_c_ExpN  -5.03084e-03   5.18241e-02  -0.00000e+00   3.67824e+02\n",
      "   3  rrv_c_landau   4.37558e+02   6.66518e-01   0.00000e+00  -2.48708e+01\n",
      "   4  rrv_n_ExpN  -1.19976e+03   2.31435e+00  -0.00000e+00  -1.20627e+02\n",
      "   5  rrv_n_landau   1.34646e+02   5.75291e-02  -0.00000e+00  -6.49254e+01\n",
      "                               ERR DEF= 0.5\n",
      " EXTERNAL ERROR MATRIX.    NDIM=  25    NPAR=  5    ERR DEF=0.5\n",
      "  4.513e-09 -7.231e-06  3.920e-05 -1.367e-04 -3.268e-06 \n",
      " -7.231e-06  1.495e-02 -8.106e-02  2.826e-01  6.759e-03 \n",
      "  3.920e-05 -8.106e-02  4.442e-01 -1.532e+00 -3.664e-02 \n",
      " -1.367e-04  2.826e-01 -1.532e+00  5.356e+00  1.277e-01 \n",
      " -3.268e-06  6.759e-03 -3.664e-02  1.277e-01  3.310e-03 \n",
      "ERR MATRIX NOT POS-DEF\n",
      " PARAMETER  CORRELATION COEFFICIENTS  \n",
      "       NO.  GLOBAL      1      2      3      4      5\n",
      "        1  0.88020   1.000 -0.880  0.875 -0.879 -0.846\n",
      "        2  0.99893  -0.880  1.000 -0.995  0.999  0.961\n",
      "        3  0.99456   0.875 -0.995  1.000 -0.993 -0.955\n",
      "        4  0.99862  -0.879  0.999 -0.993  1.000  0.959\n",
      "        5  0.96070  -0.846  0.961 -0.955  0.959  1.000\n",
      " ERR MATRIX NOT POS-DEF\n",
      " **********\n",
      " **    7 **SET ERR         0.5\n",
      " **********\n",
      " **********\n",
      " **    8 **SET PRINT           1\n",
      " **********\n",
      " **********\n",
      " **    9 **HESSE        2500\n",
      " **********\n",
      " EIGENVALUES OF SECOND-DERIVATIVE MATRIX:\n",
      "        -1.4819e-01  5.9625e-02  4.2004e-01  2.1749e+00  2.4936e+00\n",
      " MINUIT WARNING IN HESSE   \n",
      " ============== MATRIX FORCED POS-DEF BY ADDING 0.150687 TO DIAGONAL.\n",
      " FCN=75816.3 FROM HESSE     STATUS=NOT POSDEF     39 CALLS         292 TOTAL\n",
      "                     EDM=5758.71    STRATEGY= 1      ERR MATRIX NOT POS-DEF\n",
      "  EXT PARAMETER                APPROXIMATE     INTERNAL      INTERNAL  \n",
      "  NO.   NAME      VALUE            ERROR       STEP SIZE       VALUE   \n",
      "   1  frac         2.38323e-01   1.80574e-01   1.65138e-03  -5.50783e-01\n",
      "   2  rrv_c_ExpN  -5.03084e-03   3.72881e-04   1.35848e-02   1.11840e+00\n",
      "   3  rrv_c_landau   4.37558e+02   6.22003e+01   3.83302e-04  -7.25166e-01\n",
      "   4  rrv_n_ExpN  -1.19976e+03   4.61506e+01   5.76208e-06   1.20578e+00\n",
      "   5  rrv_n_landau   1.34646e+02   8.36212e+01   9.38835e-04  -2.62808e+00\n",
      "                               ERR DEF= 0.5\n",
      " EXTERNAL ERROR MATRIX.    NDIM=  25    NPAR=  5    ERR DEF=0.5\n",
      "  3.477e-02  6.756e-05 -1.129e+01 -6.935e+00  1.594e+01 \n",
      "  6.756e-05  1.391e-07 -2.229e-02 -1.211e-02  3.145e-02 \n",
      " -1.129e+01 -2.229e-02  3.875e+03  2.423e+03 -5.247e+03 \n",
      " -6.935e+00 -1.211e-02  2.423e+03  2.130e+03 -3.167e+03 \n",
      "  1.594e+01  3.145e-02 -5.247e+03 -3.167e+03  7.383e+03 \n",
      "ERR MATRIX NOT POS-DEF\n",
      " PARAMETER  CORRELATION COEFFICIENTS  \n",
      "       NO.  GLOBAL      1      2      3      4      5\n",
      "        1  0.99564   1.000  0.972 -0.973 -0.806  0.995\n",
      "        2  0.99253   0.972  1.000 -0.960 -0.703  0.981\n",
      "        3  0.98999  -0.973 -0.960  1.000  0.843 -0.981\n",
      "        4  0.94632  -0.806 -0.703  0.843  1.000 -0.798\n",
      "        5  0.99780   0.995  0.981 -0.981 -0.798  1.000\n",
      " ERR MATRIX NOT POS-DEF\n",
      "Minuit2Minimizer: Minimize with max-calls 2500 convergence for edm < 1 strategy 1\n",
      "MnSeedGenerator: for initial parameters FCN = 75816.29279829\n",
      "MnSeedGenerator: Initial state:   - FCN =   75816.29279829 Edm =      1.84551 NCalls =     27\n",
      "MnSeedGenerator: Negative G2 found - new state:   - FCN =   75814.12472008 Edm =      2.80212 NCalls =     56\n",
      "VariableMetric: start iterating until Edm is < 0.001\n",
      "VariableMetric: Initial state   - FCN =   75814.12472008 Edm =      2.80212 NCalls =     56\n",
      "VariableMetric: Iteration #   0 - FCN =   75814.12472008 Edm =      2.80212 NCalls =     56\n",
      "VariableMetric: Iteration #   1 - FCN =   75814.12414002 Edm =  1.06013e+06 NCalls =     80\n",
      "VariableMetric: Iteration #   2 - FCN =   75812.89606041 Edm =     0.723369 NCalls =    100\n",
      "VariableMetric: Iteration #   3 - FCN =   75811.54068884 Edm =     0.243454 NCalls =    118\n",
      "VariableMetric: Iteration #   4 - FCN =   75811.29702165 Edm =    0.0905014 NCalls =    137\n",
      "VariableMetric: Iteration #   5 - FCN =   75811.25157108 Edm =    0.0249616 NCalls =    158\n",
      "VariableMetric: Iteration #   6 - FCN =    75811.2515315 Edm =   0.00972566 NCalls =    182\n",
      "VariableMetric: Iteration #   7 - FCN =   75811.24397015 Edm =   0.00101638 NCalls =    203\n",
      "VariableMetric: Iteration #   8 - FCN =   75811.24333243 Edm =  0.000339453 NCalls =    224\n",
      "VariableMetric: After Hessian   - FCN =   75811.24333243 Edm =      17.0983 NCalls =    259\n",
      "VariableMetric: Iteration #   9 - FCN =   75811.24333243 Edm =      17.0983 NCalls =    259\n",
      "VariableMetric: Iteration #  10 - FCN =   75811.24311875 Edm =  2.12142e+08 NCalls =    282\n",
      "VariableMetric: Iteration #  11 - FCN =   75811.24077579 Edm =   0.00187705 NCalls =    299\n",
      "VariableMetric: Iteration #  12 - FCN =   75811.23815315 Edm =   0.00921123 NCalls =    319\n",
      "VariableMetric: Iteration #  13 - FCN =   75811.23815143 Edm =  0.000543812 NCalls =    343\n",
      "VariableMetric: Iteration #  14 - FCN =   75810.94228737 Edm =     0.223038 NCalls =    364\n",
      "VariableMetric: Iteration #  15 - FCN =   75810.27551613 Edm =      354.063 NCalls =    390\n",
      "VariableMetric: Iteration #  16 - FCN =   75810.27551613 Edm =      354.063 NCalls =    401\n",
      "Minuit2Minimizer : Invalid Minimum - status = 3\n",
      "FVAL  = 75810.3\n",
      "Edm   = 354.063\n",
      "Nfcn  = 390\n"
     ]
    },
    {
     "name": "stderr",
     "output_type": "stream",
     "text": [
      "Info in <Minuit2>: VariableMetricBuilder: Tolerance is not sufficient, continue the minimization\n",
      "Info in <Minuit2>: Current  Edm is : edm = 17.0983\n",
      "Info in <Minuit2>: Required Edm is : edmval = 0.001\n",
      "Info in <Minuit2>: DavidonErrorUpdator: delgam < 0 : first derivatives increasing along search line\n",
      "Info in <Minuit2>: VariableMetricBuilder: matrix not pos.def, gdel > 0\n",
      "Info in <Minuit2>: gdel = 23.9239\n",
      "Info in <Minuit2>: negative or zero diagonal element in covariance matrix : i = 1\n",
      "Info in <Minuit2>: negative or zero diagonal element in covariance matrix : i = 3\n",
      "Info in <Minuit2>: added to diagonal of Error matrix a value : dg = 0.500002\n",
      "Info in <Minuit2>: gdel = -1.80553e+07\n",
      "Info in <Minuit2>: VariableMetricBuilder: no improvement in line search\n",
      "Info in <Minuit2>: VariableMetricBuilder: iterations finish without convergence.\n",
      "Info in <Minuit2>: VariableMetricBuilder : edm = 16891.8\n",
      "Info in <Minuit2>:             requested : edmval = 0.001\n",
      "Info in <Minuit2>: VariableMetricBuilder: FunctionMinimum is invalid after second try\n",
      "Info in <Minuit2>: MnGlobalCorrelationCoeff: inversion of matrix fails.\n",
      "Info in <Minuit2>: Minuit2Minimizer::Minimize : Minimization did NOT converge, Edm is above max\n",
      "Info in <Minuit2>: Minuit2Minimizer::Hesse : Hesse is valid - matrix is accurate\n"
     ]
    }
   ],
   "source": [
    "model_pdf.fitTo(dh,r.RooFit.Save(1) ,r.RooFit.Extended(r.kTRUE), r.RooFit.NumCPU(2))\n",
    "\n",
    "model_pdf.fitTo(dh,r.RooFit.Save(1) ,r.RooFit.Extended(r.kTRUE), r.RooFit.Minimizer(\"Minuit2\"), r.RooFit.NumCPU(2))"
   ]
  },
  {
   "cell_type": "code",
   "execution_count": 7,
   "metadata": {
    "collapsed": false
   },
   "outputs": [
    {
     "name": "stdout",
     "output_type": "stream",
     "text": [
      "RooAddPdf::model_pdf[ frac * model_landau + [%] * model_ExpN ] = 0.00216734\n",
      "----------------------------------------\n",
      "  1) 0x7b1cd60 RooRealVar::         frac = 0.280341 +/- 0.0258298  L(0 - 1)  \"frac\"\n",
      "  2) 0x7a74430 RooRealVar::   rrv_c_ExpN = -0.00490924 +/- 0.000109728  L(-0.1 - -1e-06)  \"rrv_c_ExpN\"\n",
      "  3) 0x7a44380 RooRealVar:: rrv_c_landau = 424.533 +/- 14.8655  L(20 - 2500)  \"rrv_c_landau\"\n",
      "  4) 0x7ae8420 RooRealVar::   rrv_n_ExpN = -1189.81 +/- 0.186742  L(-10000 - -900)  \"rrv_n_ExpN\"\n",
      "  5) 0x7a52090 RooRealVar:: rrv_n_landau = 111.32 +/- 7.91782  L(10 - 500)  \"rrv_n_landau\"\n"
     ]
    }
   ],
   "source": [
    "model_pdf.Print()\n",
    "print \"--\"*20\n",
    "model_pdf.getParameters(r.RooArgSet(rrv_x)).Print(\"v\")"
   ]
  },
  {
   "cell_type": "code",
   "execution_count": 8,
   "metadata": {
    "collapsed": false
   },
   "outputs": [
    {
     "name": "stdout",
     "output_type": "stream",
     "text": [
      "0.00216733675412\n",
      "1.00018046102\n",
      "0.474046932375\n"
     ]
    }
   ],
   "source": [
    "print model_pdf.getVal()\n",
    "\n",
    "# Below line defines a custom range named highMass. This can be used while calculating the integral\n",
    "# over this range instead of full range of `rrv_x`\n",
    "rrv_x.setRange(\"highMass\",600,2000)\n",
    "print model_pdf.createIntegral(r.RooArgSet(rrv_x),r.RooArgSet(rrv_x)).getVal()\n",
    "print model_pdf.createIntegral(r.RooArgSet(rrv_x),r.RooArgSet(rrv_x),\"highMass\").getVal()"
   ]
  },
  {
   "cell_type": "code",
   "execution_count": 9,
   "metadata": {
    "collapsed": false
   },
   "outputs": [
    {
     "name": "stderr",
     "output_type": "stream",
     "text": [
      "Warning in <TCanvas::Constructor>: Deleting canvas with same name: c1\n",
      "Info in <TCanvas::Print>: png file test.png has been created\n"
     ]
    },
    {
     "data": {
      "image/png": "[encoded data removed]",
      "text/plain": [
       "<IPython.core.display.Image object>"
      ]
     },
     "metadata": {},
     "output_type": "display_data"
    }
   ],
   "source": [
    "c1 = r.TCanvas(\"c1\",\"c1\",800,600)\n",
    "frame = rrv_x.frame() \n",
    "dh.plotOn(frame)\n",
    "dh.statOn(frame);  #//this will display hist stat on canvas\n",
    "model_pdf.plotOn(frame)\n",
    "frame.Draw()\n",
    "c1.Draw()\n",
    "c1.SaveAs(\"test.png\")"
   ]
  },
  {
   "cell_type": "code",
   "execution_count": 13,
   "metadata": {
    "collapsed": false
   },
   "outputs": [
    {
     "name": "stdout",
     "output_type": "stream",
     "text": [
      "1.00026483936\n",
      "1.00031224644\n",
      "1.00041452618\n",
      "1.00070539769\n",
      "1.00226768304\n",
      "1.01353141991\n",
      "1.13499096362\n"
     ]
    },
    {
     "name": "stderr",
     "output_type": "stream",
     "text": [
      "Warning in <TNetXNGFile::Append>: Replacing existing TH1: rrv_x__rrv_x (Potential memory leak).\n",
      "Warning in <TNetXNGFile::Append>: Replacing existing TH1: model_pdf__rrv_x (Potential memory leak).\n",
      "Warning in <TNetXNGFile::Append>: Replacing existing TH1: model_pdf__rrv_x (Potential memory leak).\n",
      "Warning in <TNetXNGFile::Append>: Replacing existing TH1: model_pdf__rrv_x (Potential memory leak).\n",
      "Warning in <TNetXNGFile::Append>: Replacing existing TH1: model_pdf__rrv_x (Potential memory leak).\n",
      "Warning in <TNetXNGFile::Append>: Replacing existing TH1: model_pdf__rrv_x (Potential memory leak).\n",
      "Warning in <TNetXNGFile::Append>: Replacing existing TH1: model_pdf__rrv_x (Potential memory leak).\n"
     ]
    },
    {
     "data": {
      "image/png": "[encoded data removed]",
      "text/plain": [
       "<IPython.core.display.Image object>"
      ]
     },
     "metadata": {},
     "output_type": "display_data"
    }
   ],
   "source": [
    "hist1 = model_pdf.createHistogram(rrv_x.GetName(),rrv_x)\n",
    "hist2 = model_pdf.createHistogram(rrv_x.GetName(),80)\n",
    "hist3 = model_pdf.createHistogram(rrv_x.GetName(),60)\n",
    "hist4 = model_pdf.createHistogram(rrv_x.GetName(),40)\n",
    "hist5 = model_pdf.createHistogram(rrv_x.GetName(),20)\n",
    "hist6 = model_pdf.createHistogram(rrv_x.GetName(),10)\n",
    "hist7 = model_pdf.createHistogram(rrv_x.GetName(),5)\n",
    "\n",
    "print hist1.Integral()\n",
    "print hist2.Integral()\n",
    "print hist3.Integral()\n",
    "print hist4.Integral()\n",
    "print hist5.Integral()\n",
    "print hist6.Integral()\n",
    "print hist7.Integral()\n",
    "\n",
    "hist7.Draw()\n",
    "hist6.Draw(\"same\")\n",
    "hist5.Draw(\"same\")\n",
    "hist4.Draw(\"same\")\n",
    "hist3.Draw(\"same\")\n",
    "hist2.Draw(\"same\")\n",
    "hist1.Draw(\"same\")\n",
    "c1.Draw()"
   ]
  },
  {
   "cell_type": "code",
   "execution_count": null,
   "metadata": {
    "collapsed": true
   },
   "outputs": [],
   "source": []
  }
 ],
 "metadata": {
  "kernelspec": {
   "display_name": "Python 2",
   "language": "python",
   "name": "python2"
  },
  "language_info": {
   "codemirror_mode": {
    "name": "ipython",
    "version": 2
   },
   "file_extension": ".py",
   "mimetype": "text/x-python",
   "name": "python",
   "nbconvert_exporter": "python",
   "pygments_lexer": "ipython2",
   "version": "2.7.11"
  }
 },
 "nbformat": 4,
 "nbformat_minor": 2
}
